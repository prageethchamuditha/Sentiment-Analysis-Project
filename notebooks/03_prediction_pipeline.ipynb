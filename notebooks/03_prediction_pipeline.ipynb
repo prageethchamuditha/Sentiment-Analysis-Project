{
 "cells": [
  {
   "cell_type": "code",
   "execution_count": 1,
   "id": "d77cceed-2be0-42a1-a68c-ffa34329ddd3",
   "metadata": {},
   "outputs": [],
   "source": [
    "import numpy as np\n",
    "import pandas as pd\n",
    "import re\n",
    "import string\n",
    "import pickle"
   ]
  },
  {
   "cell_type": "code",
   "execution_count": 2,
   "id": "5e6738c4-2cb7-41ec-af3e-3635a6a3cabc",
   "metadata": {},
   "outputs": [],
   "source": [
    "txt = \"Great product, I like it\""
   ]
  },
  {
   "cell_type": "code",
   "execution_count": 3,
   "id": "2bccac22-aaba-4a9d-bc7d-761284b46087",
   "metadata": {},
   "outputs": [],
   "source": [
    "def remove_punctuations(text) :\n",
    "    for punctuation in string.punctuation:\n",
    "        text = text.replace (punctuation, \"  \")\n",
    "    return text"
   ]
  },
  {
   "cell_type": "code",
   "execution_count": 4,
   "id": "c7078a29-2087-4faa-bb58-02a53f248845",
   "metadata": {},
   "outputs": [],
   "source": [
    "with open (\"../Static/model/corpora/stopwords/english\",\"r\") as file:\n",
    "    sw = file.read().splitlines()"
   ]
  },
  {
   "cell_type": "code",
   "execution_count": 5,
   "id": "3a47e315-bdbf-41c0-81bc-dd297d1f0f80",
   "metadata": {},
   "outputs": [],
   "source": [
    "from nltk.stem import PorterStemmer\n",
    "ps = PorterStemmer()"
   ]
  },
  {
   "cell_type": "code",
   "execution_count": 6,
   "id": "e605026b-0756-4c44-92a8-bb0f0860abd8",
   "metadata": {},
   "outputs": [],
   "source": [
    "def preprocessing(text):\n",
    "    data = pd.DataFrame([text],columns = [\"tweet\"])\n",
    "    data[\"tweet\"] = data[\"tweet\"].apply(lambda x: \" \".join (x.lower() for x in x.split()))\n",
    "    data[\"tweet\"] = data[\"tweet\"].apply(lambda x: \" \".join(re.sub(r'^https?:\\/\\/.*[\\r\\n]*', '', x, flags = re.MULTILINE) for x in x.split()))\n",
    "    data[\"tweet\"] = data[\"tweet\"].apply(remove_punctuations)\n",
    "    data[\"tweet\"] = data[\"tweet\"].str.replace(r'\\d+', '', regex=True)\n",
    "    data[\"tweet\"] = data[\"tweet\"].apply(lambda x : \" \".join (x for x in x.split() if x not in sw))\n",
    "    data[\"tweet\"] = data[\"tweet\"].apply(lambda x : \" \".join (ps.stem(x) for x in x.split()))\n",
    "    return data[\"tweet\"]"
   ]
  },
  {
   "cell_type": "code",
   "execution_count": 7,
   "id": "8e04bb2b-a8d0-4df0-a4ce-1a4e5123e296",
   "metadata": {},
   "outputs": [],
   "source": [
    "preprocessed_txt = preprocessing(txt)"
   ]
  },
  {
   "cell_type": "code",
   "execution_count": 8,
   "id": "9879bf44-a075-46ab-a269-f03afe860323",
   "metadata": {},
   "outputs": [
    {
     "data": {
      "text/plain": [
       "0    great product like\n",
       "Name: tweet, dtype: object"
      ]
     },
     "execution_count": 8,
     "metadata": {},
     "output_type": "execute_result"
    }
   ],
   "source": [
    "preprocessed_txt"
   ]
  },
  {
   "cell_type": "code",
   "execution_count": 9,
   "id": "86ac8b96-6d35-4352-80e0-5535e7de20af",
   "metadata": {},
   "outputs": [],
   "source": [
    "vocab = pd.read_csv(\"../Static/model/vocabulary.txt\",header = None) \n",
    "tokens = vocab[0].tolist()"
   ]
  },
  {
   "cell_type": "code",
   "execution_count": 10,
   "id": "58c66b99-7817-4c85-9dd6-5ebce5b7d367",
   "metadata": {},
   "outputs": [],
   "source": [
    "def vectorizer(ds,vocabulary) :\n",
    "    vectorized_list = []\n",
    "    for sentence in ds:\n",
    "        sentence_list = np.zeros(len(vocabulary))\n",
    "        for i in range(len(vocabulary)) :\n",
    "            if vocabulary [i] in sentence.split():\n",
    "                sentence_list[i] = 1\n",
    "        vectorized_list.append(sentence_list)\n",
    "    vectorized_list_new = np.asarray(vectorized_list,dtype = np.float32)\n",
    "    return vectorized_list_new"
   ]
  },
  {
   "cell_type": "code",
   "execution_count": 11,
   "id": "dd7c4128-c2ce-4502-9086-4f1f1ca03597",
   "metadata": {},
   "outputs": [],
   "source": [
    "vectorized_txt = vectorizer(preprocessed_txt,tokens)"
   ]
  },
  {
   "cell_type": "code",
   "execution_count": 12,
   "id": "e52e7983-2199-4696-9695-379c7bcb11f1",
   "metadata": {},
   "outputs": [
    {
     "data": {
      "text/plain": [
       "array([[0., 0., 0., ..., 0., 0., 0.]], shape=(1, 1168), dtype=float32)"
      ]
     },
     "execution_count": 12,
     "metadata": {},
     "output_type": "execute_result"
    }
   ],
   "source": [
    "vectorized_txt"
   ]
  },
  {
   "cell_type": "code",
   "execution_count": 13,
   "id": "9bb5d658-04ea-4ca7-9698-086a4c59580a",
   "metadata": {},
   "outputs": [],
   "source": [
    "with open (\"../Static/model/model.pickle\",\"rb\") as f:\n",
    "    model = pickle.load(f)"
   ]
  },
  {
   "cell_type": "code",
   "execution_count": 27,
   "id": "6c00e1d3-da02-4b55-8510-040419fc747b",
   "metadata": {},
   "outputs": [
    {
     "data": {
      "text/plain": [
       "array([1])"
      ]
     },
     "execution_count": 27,
     "metadata": {},
     "output_type": "execute_result"
    }
   ],
   "source": [
    "txt = \"bad\"\n",
    "preprocessed_txt = preprocessing(txt)\n",
    "vectorized_txt = vectorizer(preprocessed_txt,tokens)\n",
    "prediction = model.predict(vectorized_txt)\n",
    "prediction"
   ]
  },
  {
   "cell_type": "code",
   "execution_count": 28,
   "id": "ac10a92e-2662-4a8f-9beb-919914531c8d",
   "metadata": {},
   "outputs": [
    {
     "data": {
      "text/plain": [
       "'Negative'"
      ]
     },
     "execution_count": 28,
     "metadata": {},
     "output_type": "execute_result"
    }
   ],
   "source": [
    "def get_prediction(vectorized_txt):\n",
    "    prediction = model.predict(vectorized_txt)\n",
    "    if prediction == 1:\n",
    "        return \"Negative\"\n",
    "    else :\n",
    "        return \"Positive\"\n",
    "\n",
    "get_prediction(vectorized_txt)"
   ]
  },
  {
   "cell_type": "code",
   "execution_count": null,
   "id": "d929a7ee-7a86-4c7e-83cb-7a29173aaee1",
   "metadata": {},
   "outputs": [],
   "source": []
  }
 ],
 "metadata": {
  "kernelspec": {
   "display_name": "Python 3 (ipykernel)",
   "language": "python",
   "name": "python3"
  },
  "language_info": {
   "codemirror_mode": {
    "name": "ipython",
    "version": 3
   },
   "file_extension": ".py",
   "mimetype": "text/x-python",
   "name": "python",
   "nbconvert_exporter": "python",
   "pygments_lexer": "ipython3",
   "version": "3.12.4"
  }
 },
 "nbformat": 4,
 "nbformat_minor": 5
}
