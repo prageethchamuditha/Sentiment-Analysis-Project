{
 "cells": [
  {
   "cell_type": "code",
   "execution_count": 1,
   "id": "8a620535-f079-43e5-b8ba-a9792f394368",
   "metadata": {},
   "outputs": [],
   "source": [
    "import numpy as np\n",
    "import pandas as pd\n",
    "import matplotlib.pyplot as plt"
   ]
  },
  {
   "cell_type": "code",
   "execution_count": 76,
   "id": "00821418-799d-45de-94ab-81f9eb1291f4",
   "metadata": {},
   "outputs": [],
   "source": [
    "data = pd.read_csv(\"../artifacts/sentiment_analysis.csv\")"
   ]
  },
  {
   "cell_type": "code",
   "execution_count": 77,
   "id": "a33a3abd-1e1f-4731-9809-1361b1dc6da1",
   "metadata": {},
   "outputs": [
    {
     "data": {
      "text/html": [
       "<div>\n",
       "<style scoped>\n",
       "    .dataframe tbody tr th:only-of-type {\n",
       "        vertical-align: middle;\n",
       "    }\n",
       "\n",
       "    .dataframe tbody tr th {\n",
       "        vertical-align: top;\n",
       "    }\n",
       "\n",
       "    .dataframe thead th {\n",
       "        text-align: right;\n",
       "    }\n",
       "</style>\n",
       "<table border=\"1\" class=\"dataframe\">\n",
       "  <thead>\n",
       "    <tr style=\"text-align: right;\">\n",
       "      <th></th>\n",
       "      <th>id</th>\n",
       "      <th>label</th>\n",
       "      <th>tweet</th>\n",
       "    </tr>\n",
       "  </thead>\n",
       "  <tbody>\n",
       "    <tr>\n",
       "      <th>0</th>\n",
       "      <td>1</td>\n",
       "      <td>0</td>\n",
       "      <td>#fingerprint #Pregnancy Test https://goo.gl/h1...</td>\n",
       "    </tr>\n",
       "    <tr>\n",
       "      <th>1</th>\n",
       "      <td>2</td>\n",
       "      <td>0</td>\n",
       "      <td>Finally a transparant silicon case ^^ Thanks t...</td>\n",
       "    </tr>\n",
       "    <tr>\n",
       "      <th>2</th>\n",
       "      <td>3</td>\n",
       "      <td>0</td>\n",
       "      <td>We love this! Would you go? #talk #makememorie...</td>\n",
       "    </tr>\n",
       "    <tr>\n",
       "      <th>3</th>\n",
       "      <td>4</td>\n",
       "      <td>0</td>\n",
       "      <td>I'm wired I know I'm George I was made that wa...</td>\n",
       "    </tr>\n",
       "    <tr>\n",
       "      <th>4</th>\n",
       "      <td>5</td>\n",
       "      <td>1</td>\n",
       "      <td>What amazing service! Apple won't even talk to...</td>\n",
       "    </tr>\n",
       "  </tbody>\n",
       "</table>\n",
       "</div>"
      ],
      "text/plain": [
       "   id  label                                              tweet\n",
       "0   1      0  #fingerprint #Pregnancy Test https://goo.gl/h1...\n",
       "1   2      0  Finally a transparant silicon case ^^ Thanks t...\n",
       "2   3      0  We love this! Would you go? #talk #makememorie...\n",
       "3   4      0  I'm wired I know I'm George I was made that wa...\n",
       "4   5      1  What amazing service! Apple won't even talk to..."
      ]
     },
     "execution_count": 77,
     "metadata": {},
     "output_type": "execute_result"
    }
   ],
   "source": [
    "data.head()"
   ]
  },
  {
   "cell_type": "markdown",
   "id": "feae30b7-f919-45aa-99a9-d0542c302e82",
   "metadata": {},
   "source": [
    " "
   ]
  },
  {
   "cell_type": "markdown",
   "id": "b75e30a8-ec16-415d-a6d3-cda28faa8799",
   "metadata": {},
   "source": [
    "#Data Preprocessing"
   ]
  },
  {
   "cell_type": "code",
   "execution_count": 78,
   "id": "209c8604-076a-405a-a994-9c6765e2c22d",
   "metadata": {},
   "outputs": [
    {
     "data": {
      "text/plain": [
       "(7920, 3)"
      ]
     },
     "execution_count": 78,
     "metadata": {},
     "output_type": "execute_result"
    }
   ],
   "source": [
    "data.shape"
   ]
  },
  {
   "cell_type": "code",
   "execution_count": 79,
   "id": "e035488b-c7e5-47ce-95a7-4e6a7a9bc605",
   "metadata": {},
   "outputs": [
    {
     "data": {
      "text/plain": [
       "np.int64(0)"
      ]
     },
     "execution_count": 79,
     "metadata": {},
     "output_type": "execute_result"
    }
   ],
   "source": [
    "data.duplicated().sum()"
   ]
  },
  {
   "cell_type": "code",
   "execution_count": 80,
   "id": "496580cb-5fb9-4530-b7e3-4b8c10139191",
   "metadata": {},
   "outputs": [
    {
     "data": {
      "text/plain": [
       "id       0\n",
       "label    0\n",
       "tweet    0\n",
       "dtype: int64"
      ]
     },
     "execution_count": 80,
     "metadata": {},
     "output_type": "execute_result"
    }
   ],
   "source": [
    "data.isnull().sum()"
   ]
  },
  {
   "cell_type": "markdown",
   "id": "c3c3ff13-9d15-46fd-b77d-752c07df5a8d",
   "metadata": {},
   "source": [
    " "
   ]
  },
  {
   "cell_type": "markdown",
   "id": "5af36fc5-e45a-4493-87a6-77657e932c3e",
   "metadata": {},
   "source": [
    "#Text Preprocessing"
   ]
  },
  {
   "cell_type": "code",
   "execution_count": 81,
   "id": "f7608128-dffa-47cc-af4a-6a84ffb8da1e",
   "metadata": {},
   "outputs": [],
   "source": [
    "import re\n",
    "import string"
   ]
  },
  {
   "cell_type": "code",
   "execution_count": 82,
   "id": "836f947d-5977-4de0-83b1-d256cd8a418a",
   "metadata": {},
   "outputs": [
    {
     "data": {
      "text/plain": [
       "0    #fingerprint #Pregnancy Test https://goo.gl/h1...\n",
       "1    Finally a transparant silicon case ^^ Thanks t...\n",
       "2    We love this! Would you go? #talk #makememorie...\n",
       "3    I'm wired I know I'm George I was made that wa...\n",
       "4    What amazing service! Apple won't even talk to...\n",
       "Name: tweet, dtype: object"
      ]
     },
     "execution_count": 82,
     "metadata": {},
     "output_type": "execute_result"
    }
   ],
   "source": [
    "data[\"tweet\"].head(5)"
   ]
  },
  {
   "cell_type": "code",
   "execution_count": 83,
   "id": "1fa28901-2edc-4f71-a9e2-b883a0cdea60",
   "metadata": {},
   "outputs": [],
   "source": [
    "data[\"tweet\"] = data[\"tweet\"].apply(lambda x: \" \".join (x.lower() for x in x.split()))"
   ]
  },
  {
   "cell_type": "code",
   "execution_count": 84,
   "id": "ccc5b620-cfe2-4ae9-9bd3-18278b67a8ff",
   "metadata": {},
   "outputs": [
    {
     "data": {
      "text/plain": [
       "0    #fingerprint #pregnancy test https://goo.gl/h1...\n",
       "1    finally a transparant silicon case ^^ thanks t...\n",
       "2    we love this! would you go? #talk #makememorie...\n",
       "3    i'm wired i know i'm george i was made that wa...\n",
       "4    what amazing service! apple won't even talk to...\n",
       "Name: tweet, dtype: object"
      ]
     },
     "execution_count": 84,
     "metadata": {},
     "output_type": "execute_result"
    }
   ],
   "source": [
    "data[\"tweet\"].head(5)"
   ]
  },
  {
   "cell_type": "markdown",
   "id": "7563d519-e6e8-4bef-a2d2-b7f9160c1bd7",
   "metadata": {},
   "source": [
    " "
   ]
  },
  {
   "cell_type": "markdown",
   "id": "4313bef6-f411-4ca5-984f-ad8e3ccfb63c",
   "metadata": {},
   "source": [
    "#Remove Links"
   ]
  },
  {
   "cell_type": "code",
   "execution_count": 85,
   "id": "4e45c1a3-0f71-4692-a4e7-e533ccd72541",
   "metadata": {},
   "outputs": [],
   "source": [
    "data[\"tweet\"] = data[\"tweet\"].apply(\n",
    "   lambda x: \" \".join(re.sub(r'^https?:\\/\\/.*[\\r\\n]*', '', x, flags = re.MULTILINE) for x in x.split()))\n"
   ]
  },
  {
   "cell_type": "code",
   "execution_count": 86,
   "id": "a91ba874-423b-4beb-a9f4-d19a2c8bdd60",
   "metadata": {},
   "outputs": [
    {
     "data": {
      "text/html": [
       "<div>\n",
       "<style scoped>\n",
       "    .dataframe tbody tr th:only-of-type {\n",
       "        vertical-align: middle;\n",
       "    }\n",
       "\n",
       "    .dataframe tbody tr th {\n",
       "        vertical-align: top;\n",
       "    }\n",
       "\n",
       "    .dataframe thead th {\n",
       "        text-align: right;\n",
       "    }\n",
       "</style>\n",
       "<table border=\"1\" class=\"dataframe\">\n",
       "  <thead>\n",
       "    <tr style=\"text-align: right;\">\n",
       "      <th></th>\n",
       "      <th>id</th>\n",
       "      <th>label</th>\n",
       "      <th>tweet</th>\n",
       "    </tr>\n",
       "  </thead>\n",
       "  <tbody>\n",
       "    <tr>\n",
       "      <th>0</th>\n",
       "      <td>1</td>\n",
       "      <td>0</td>\n",
       "      <td>#fingerprint #pregnancy test  #android #apps #...</td>\n",
       "    </tr>\n",
       "    <tr>\n",
       "      <th>1</th>\n",
       "      <td>2</td>\n",
       "      <td>0</td>\n",
       "      <td>finally a transparant silicon case ^^ thanks t...</td>\n",
       "    </tr>\n",
       "    <tr>\n",
       "      <th>2</th>\n",
       "      <td>3</td>\n",
       "      <td>0</td>\n",
       "      <td>we love this! would you go? #talk #makememorie...</td>\n",
       "    </tr>\n",
       "    <tr>\n",
       "      <th>3</th>\n",
       "      <td>4</td>\n",
       "      <td>0</td>\n",
       "      <td>i'm wired i know i'm george i was made that wa...</td>\n",
       "    </tr>\n",
       "    <tr>\n",
       "      <th>4</th>\n",
       "      <td>5</td>\n",
       "      <td>1</td>\n",
       "      <td>what amazing service! apple won't even talk to...</td>\n",
       "    </tr>\n",
       "  </tbody>\n",
       "</table>\n",
       "</div>"
      ],
      "text/plain": [
       "   id  label                                              tweet\n",
       "0   1      0  #fingerprint #pregnancy test  #android #apps #...\n",
       "1   2      0  finally a transparant silicon case ^^ thanks t...\n",
       "2   3      0  we love this! would you go? #talk #makememorie...\n",
       "3   4      0  i'm wired i know i'm george i was made that wa...\n",
       "4   5      1  what amazing service! apple won't even talk to..."
      ]
     },
     "execution_count": 86,
     "metadata": {},
     "output_type": "execute_result"
    }
   ],
   "source": [
    "data.head(5)"
   ]
  },
  {
   "cell_type": "markdown",
   "id": "b06bdf47-0989-4742-b651-a5cebf60111d",
   "metadata": {},
   "source": [
    "#Remove Punctuation"
   ]
  },
  {
   "cell_type": "code",
   "execution_count": 87,
   "id": "d2861de2-ed68-4d5c-9c2b-1bef33183c8c",
   "metadata": {},
   "outputs": [
    {
     "data": {
      "text/plain": [
       "'!\"#$%&\\'()*+,-./:;<=>?@[\\\\]^_`{|}~'"
      ]
     },
     "execution_count": 87,
     "metadata": {},
     "output_type": "execute_result"
    }
   ],
   "source": [
    "string.punctuation"
   ]
  },
  {
   "cell_type": "code",
   "execution_count": 92,
   "id": "5c1059ea-296b-40f5-a6f6-2d9cb8101f8b",
   "metadata": {},
   "outputs": [],
   "source": [
    "def remove_punctuations(text) :\n",
    "    for punctuation in string.punctuation:\n",
    "        text = text.replace (punctuation, \"  \")\n",
    "    return text\n",
    "\n",
    "data[\"tweet\"] = data[\"tweet\"].apply(remove_punctuations)"
   ]
  },
  {
   "cell_type": "code",
   "execution_count": 94,
   "id": "9ec6fc87-0626-47e1-8a08-a5d9492103fe",
   "metadata": {},
   "outputs": [
    {
     "data": {
      "text/html": [
       "<div>\n",
       "<style scoped>\n",
       "    .dataframe tbody tr th:only-of-type {\n",
       "        vertical-align: middle;\n",
       "    }\n",
       "\n",
       "    .dataframe tbody tr th {\n",
       "        vertical-align: top;\n",
       "    }\n",
       "\n",
       "    .dataframe thead th {\n",
       "        text-align: right;\n",
       "    }\n",
       "</style>\n",
       "<table border=\"1\" class=\"dataframe\">\n",
       "  <thead>\n",
       "    <tr style=\"text-align: right;\">\n",
       "      <th></th>\n",
       "      <th>id</th>\n",
       "      <th>label</th>\n",
       "      <th>tweet</th>\n",
       "    </tr>\n",
       "  </thead>\n",
       "  <tbody>\n",
       "    <tr>\n",
       "      <th>7915</th>\n",
       "      <td>7916</td>\n",
       "      <td>0</td>\n",
       "      <td>live out loud   lol   liveoutloud   selfie   s...</td>\n",
       "    </tr>\n",
       "    <tr>\n",
       "      <th>7916</th>\n",
       "      <td>7917</td>\n",
       "      <td>0</td>\n",
       "      <td>we would like to wish you an amazing day   mak...</td>\n",
       "    </tr>\n",
       "    <tr>\n",
       "      <th>7917</th>\n",
       "      <td>7918</td>\n",
       "      <td>0</td>\n",
       "      <td>helping my lovely 90 year old neighbor with he...</td>\n",
       "    </tr>\n",
       "    <tr>\n",
       "      <th>7918</th>\n",
       "      <td>7919</td>\n",
       "      <td>0</td>\n",
       "      <td>finally got my   smart   pocket   wifi stay co...</td>\n",
       "    </tr>\n",
       "    <tr>\n",
       "      <th>7919</th>\n",
       "      <td>7920</td>\n",
       "      <td>0</td>\n",
       "      <td>apple barcelona         apple   store   bcn   ...</td>\n",
       "    </tr>\n",
       "  </tbody>\n",
       "</table>\n",
       "</div>"
      ],
      "text/plain": [
       "        id  label                                              tweet\n",
       "7915  7916      0  live out loud   lol   liveoutloud   selfie   s...\n",
       "7916  7917      0  we would like to wish you an amazing day   mak...\n",
       "7917  7918      0  helping my lovely 90 year old neighbor with he...\n",
       "7918  7919      0  finally got my   smart   pocket   wifi stay co...\n",
       "7919  7920      0  apple barcelona         apple   store   bcn   ..."
      ]
     },
     "execution_count": 94,
     "metadata": {},
     "output_type": "execute_result"
    }
   ],
   "source": [
    "data.tail(5)"
   ]
  },
  {
   "cell_type": "markdown",
   "id": "73e73572-5468-4db2-9736-4b30fdb93211",
   "metadata": {},
   "source": [
    "  "
   ]
  },
  {
   "cell_type": "markdown",
   "id": "175d9334-6c4f-48bc-bc9e-6d79576737e3",
   "metadata": {},
   "source": [
    "#Remove numbers"
   ]
  },
  {
   "cell_type": "code",
   "execution_count": 102,
   "id": "c1b6d251-a555-48cd-ac55-c130864d153a",
   "metadata": {},
   "outputs": [],
   "source": [
    "data[\"tweet\"] = data[\"tweet\"].str.replace(r'\\d+', '', regex=True)"
   ]
  },
  {
   "cell_type": "code",
   "execution_count": 103,
   "id": "ed93579f-4668-4135-869b-39feea0c20de",
   "metadata": {},
   "outputs": [
    {
     "data": {
      "text/plain": [
       "7915    live out lou   lol   liveoutlou   selfie   smi...\n",
       "7916    we woul like to wish you an amazing ay   make ...\n",
       "7917    helping my lovely  year ol neighbor with her i...\n",
       "7918    finally got my   smart   pocket   wifi stay co...\n",
       "7919    apple barcelona         apple   store   bcn   ...\n",
       "Name: tweet, dtype: object"
      ]
     },
     "execution_count": 103,
     "metadata": {},
     "output_type": "execute_result"
    }
   ],
   "source": [
    "data[\"tweet\"].tail(5)"
   ]
  },
  {
   "cell_type": "markdown",
   "id": "dd5255b6-a9f1-4d94-b5ca-a3a5f6411c32",
   "metadata": {},
   "source": [
    " "
   ]
  },
  {
   "cell_type": "markdown",
   "id": "52779643-bc96-489a-a430-c9a5c2370994",
   "metadata": {},
   "source": [
    "#Remove Stop Words"
   ]
  },
  {
   "cell_type": "code",
   "execution_count": 104,
   "id": "897c8e7c-d830-4cca-9d44-ad4e9c6cae2b",
   "metadata": {},
   "outputs": [
    {
     "name": "stdout",
     "output_type": "stream",
     "text": [
      "Collecting nltk\n",
      "  Downloading nltk-3.9.1-py3-none-any.whl.metadata (2.9 kB)\n",
      "Collecting click (from nltk)\n",
      "  Using cached click-8.2.1-py3-none-any.whl.metadata (2.5 kB)\n",
      "Collecting joblib (from nltk)\n",
      "  Downloading joblib-1.5.2-py3-none-any.whl.metadata (5.6 kB)\n",
      "Collecting regex>=2021.8.3 (from nltk)\n",
      "  Downloading regex-2025.9.1-cp312-cp312-win_amd64.whl.metadata (41 kB)\n",
      "Requirement already satisfied: tqdm in c:\\users\\asus creator\\desktop\\sentiment-analysis-project\\env\\lib\\site-packages (from nltk) (4.67.1)\n",
      "Requirement already satisfied: colorama in c:\\users\\asus creator\\desktop\\sentiment-analysis-project\\env\\lib\\site-packages (from click->nltk) (0.4.6)\n",
      "Downloading nltk-3.9.1-py3-none-any.whl (1.5 MB)\n",
      "   ---------------------------------------- 0.0/1.5 MB ? eta -:--:--\n",
      "   ---------------------------------------- 0.0/1.5 MB ? eta -:--:--\n",
      "   ------ --------------------------------- 0.3/1.5 MB ? eta -:--:--\n",
      "   ------------- -------------------------- 0.5/1.5 MB 882.6 kB/s eta 0:00:02\n",
      "   ------------- -------------------------- 0.5/1.5 MB 882.6 kB/s eta 0:00:02\n",
      "   -------------------- ------------------- 0.8/1.5 MB 905.5 kB/s eta 0:00:01\n",
      "   --------------------------- ------------ 1.0/1.5 MB 867.1 kB/s eta 0:00:01\n",
      "   --------------------------- ------------ 1.0/1.5 MB 867.1 kB/s eta 0:00:01\n",
      "   ---------------------------------------- 1.5/1.5 MB 883.7 kB/s  0:00:01\n",
      "Downloading regex-2025.9.1-cp312-cp312-win_amd64.whl (275 kB)\n",
      "Using cached click-8.2.1-py3-none-any.whl (102 kB)\n",
      "Downloading joblib-1.5.2-py3-none-any.whl (308 kB)\n",
      "Installing collected packages: regex, joblib, click, nltk\n",
      "\n",
      "   ---------------------------------------- 0/4 [regex]\n",
      "   ---------- ----------------------------- 1/4 [joblib]\n",
      "   ---------- ----------------------------- 1/4 [joblib]\n",
      "   ---------- ----------------------------- 1/4 [joblib]\n",
      "   ---------- ----------------------------- 1/4 [joblib]\n",
      "   ---------- ----------------------------- 1/4 [joblib]\n",
      "   ---------- ----------------------------- 1/4 [joblib]\n",
      "   ---------- ----------------------------- 1/4 [joblib]\n",
      "   ---------- ----------------------------- 1/4 [joblib]\n",
      "   ---------- ----------------------------- 1/4 [joblib]\n",
      "   ---------- ----------------------------- 1/4 [joblib]\n",
      "   ---------- ----------------------------- 1/4 [joblib]\n",
      "   ---------- ----------------------------- 1/4 [joblib]\n",
      "   ---------- ----------------------------- 1/4 [joblib]\n",
      "   -------------------- ------------------- 2/4 [click]\n",
      "   -------------------- ------------------- 2/4 [click]\n",
      "   -------------------- ------------------- 2/4 [click]\n",
      "   ------------------------------ --------- 3/4 [nltk]\n",
      "   ------------------------------ --------- 3/4 [nltk]\n",
      "   ------------------------------ --------- 3/4 [nltk]\n",
      "   ------------------------------ --------- 3/4 [nltk]\n",
      "   ------------------------------ --------- 3/4 [nltk]\n",
      "   ------------------------------ --------- 3/4 [nltk]\n",
      "   ------------------------------ --------- 3/4 [nltk]\n",
      "   ------------------------------ --------- 3/4 [nltk]\n",
      "   ------------------------------ --------- 3/4 [nltk]\n",
      "   ------------------------------ --------- 3/4 [nltk]\n",
      "   ------------------------------ --------- 3/4 [nltk]\n",
      "   ------------------------------ --------- 3/4 [nltk]\n",
      "   ------------------------------ --------- 3/4 [nltk]\n",
      "   ------------------------------ --------- 3/4 [nltk]\n",
      "   ------------------------------ --------- 3/4 [nltk]\n",
      "   ------------------------------ --------- 3/4 [nltk]\n",
      "   ------------------------------ --------- 3/4 [nltk]\n",
      "   ------------------------------ --------- 3/4 [nltk]\n",
      "   ------------------------------ --------- 3/4 [nltk]\n",
      "   ------------------------------ --------- 3/4 [nltk]\n",
      "   ------------------------------ --------- 3/4 [nltk]\n",
      "   ------------------------------ --------- 3/4 [nltk]\n",
      "   ------------------------------ --------- 3/4 [nltk]\n",
      "   ------------------------------ --------- 3/4 [nltk]\n",
      "   ------------------------------ --------- 3/4 [nltk]\n",
      "   ------------------------------ --------- 3/4 [nltk]\n",
      "   ------------------------------ --------- 3/4 [nltk]\n",
      "   ------------------------------ --------- 3/4 [nltk]\n",
      "   ------------------------------ --------- 3/4 [nltk]\n",
      "   ------------------------------ --------- 3/4 [nltk]\n",
      "   ------------------------------ --------- 3/4 [nltk]\n",
      "   ------------------------------ --------- 3/4 [nltk]\n",
      "   ------------------------------ --------- 3/4 [nltk]\n",
      "   ------------------------------ --------- 3/4 [nltk]\n",
      "   ------------------------------ --------- 3/4 [nltk]\n",
      "   ------------------------------ --------- 3/4 [nltk]\n",
      "   ------------------------------ --------- 3/4 [nltk]\n",
      "   ------------------------------ --------- 3/4 [nltk]\n",
      "   ------------------------------ --------- 3/4 [nltk]\n",
      "   ------------------------------ --------- 3/4 [nltk]\n",
      "   ------------------------------ --------- 3/4 [nltk]\n",
      "   ------------------------------ --------- 3/4 [nltk]\n",
      "   ------------------------------ --------- 3/4 [nltk]\n",
      "   ------------------------------ --------- 3/4 [nltk]\n",
      "   ------------------------------ --------- 3/4 [nltk]\n",
      "   ------------------------------ --------- 3/4 [nltk]\n",
      "   ------------------------------ --------- 3/4 [nltk]\n",
      "   ------------------------------ --------- 3/4 [nltk]\n",
      "   ------------------------------ --------- 3/4 [nltk]\n",
      "   ------------------------------ --------- 3/4 [nltk]\n",
      "   ------------------------------ --------- 3/4 [nltk]\n",
      "   ------------------------------ --------- 3/4 [nltk]\n",
      "   ------------------------------ --------- 3/4 [nltk]\n",
      "   ------------------------------ --------- 3/4 [nltk]\n",
      "   ------------------------------ --------- 3/4 [nltk]\n",
      "   ------------------------------ --------- 3/4 [nltk]\n",
      "   ------------------------------ --------- 3/4 [nltk]\n",
      "   ------------------------------ --------- 3/4 [nltk]\n",
      "   ------------------------------ --------- 3/4 [nltk]\n",
      "   ------------------------------ --------- 3/4 [nltk]\n",
      "   ------------------------------ --------- 3/4 [nltk]\n",
      "   ------------------------------ --------- 3/4 [nltk]\n",
      "   ------------------------------ --------- 3/4 [nltk]\n",
      "   ------------------------------ --------- 3/4 [nltk]\n",
      "   ---------------------------------------- 4/4 [nltk]\n",
      "\n",
      "Successfully installed click-8.2.1 joblib-1.5.2 nltk-3.9.1 regex-2025.9.1\n",
      "Note: you may need to restart the kernel to use updated packages.\n"
     ]
    }
   ],
   "source": [
    "pip install nltk"
   ]
  },
  {
   "cell_type": "code",
   "execution_count": 105,
   "id": "88bbca37-f73b-432a-ba04-cc3da7d05d2e",
   "metadata": {},
   "outputs": [],
   "source": [
    "import nltk"
   ]
  },
  {
   "cell_type": "code",
   "execution_count": 109,
   "id": "7ca9c464-ed3c-477a-be92-769eae3e0009",
   "metadata": {},
   "outputs": [
    {
     "name": "stderr",
     "output_type": "stream",
     "text": [
      "[nltk_data] Downloading package stopwords to ../Static/model...\n",
      "[nltk_data]   Unzipping corpora\\stopwords.zip.\n"
     ]
    },
    {
     "data": {
      "text/plain": [
       "True"
      ]
     },
     "execution_count": 109,
     "metadata": {},
     "output_type": "execute_result"
    }
   ],
   "source": [
    "nltk.download(\"stopwords\",download_dir = \"../Static/model\")"
   ]
  },
  {
   "cell_type": "code",
   "execution_count": 110,
   "id": "8cc4673d-f63e-49fc-a86d-9334106b0b82",
   "metadata": {},
   "outputs": [],
   "source": [
    "with open (\"../Static/model/corpora/stopwords/english\",\"r\") as file:\n",
    "    sw = file.read().splitlines()"
   ]
  },
  {
   "cell_type": "code",
   "execution_count": 111,
   "id": "024439e5-774a-4a05-9cf5-b4d01ebed7c9",
   "metadata": {},
   "outputs": [
    {
     "data": {
      "text/plain": [
       "['a',\n",
       " 'about',\n",
       " 'above',\n",
       " 'after',\n",
       " 'again',\n",
       " 'against',\n",
       " 'ain',\n",
       " 'all',\n",
       " 'am',\n",
       " 'an',\n",
       " 'and',\n",
       " 'any',\n",
       " 'are',\n",
       " 'aren',\n",
       " \"aren't\",\n",
       " 'as',\n",
       " 'at',\n",
       " 'be',\n",
       " 'because',\n",
       " 'been',\n",
       " 'before',\n",
       " 'being',\n",
       " 'below',\n",
       " 'between',\n",
       " 'both',\n",
       " 'but',\n",
       " 'by',\n",
       " 'can',\n",
       " 'couldn',\n",
       " \"couldn't\",\n",
       " 'd',\n",
       " 'did',\n",
       " 'didn',\n",
       " \"didn't\",\n",
       " 'do',\n",
       " 'does',\n",
       " 'doesn',\n",
       " \"doesn't\",\n",
       " 'doing',\n",
       " 'don',\n",
       " \"don't\",\n",
       " 'down',\n",
       " 'during',\n",
       " 'each',\n",
       " 'few',\n",
       " 'for',\n",
       " 'from',\n",
       " 'further',\n",
       " 'had',\n",
       " 'hadn',\n",
       " \"hadn't\",\n",
       " 'has',\n",
       " 'hasn',\n",
       " \"hasn't\",\n",
       " 'have',\n",
       " 'haven',\n",
       " \"haven't\",\n",
       " 'having',\n",
       " 'he',\n",
       " \"he'd\",\n",
       " \"he'll\",\n",
       " 'her',\n",
       " 'here',\n",
       " 'hers',\n",
       " 'herself',\n",
       " \"he's\",\n",
       " 'him',\n",
       " 'himself',\n",
       " 'his',\n",
       " 'how',\n",
       " 'i',\n",
       " \"i'd\",\n",
       " 'if',\n",
       " \"i'll\",\n",
       " \"i'm\",\n",
       " 'in',\n",
       " 'into',\n",
       " 'is',\n",
       " 'isn',\n",
       " \"isn't\",\n",
       " 'it',\n",
       " \"it'd\",\n",
       " \"it'll\",\n",
       " \"it's\",\n",
       " 'its',\n",
       " 'itself',\n",
       " \"i've\",\n",
       " 'just',\n",
       " 'll',\n",
       " 'm',\n",
       " 'ma',\n",
       " 'me',\n",
       " 'mightn',\n",
       " \"mightn't\",\n",
       " 'more',\n",
       " 'most',\n",
       " 'mustn',\n",
       " \"mustn't\",\n",
       " 'my',\n",
       " 'myself',\n",
       " 'needn',\n",
       " \"needn't\",\n",
       " 'no',\n",
       " 'nor',\n",
       " 'not',\n",
       " 'now',\n",
       " 'o',\n",
       " 'of',\n",
       " 'off',\n",
       " 'on',\n",
       " 'once',\n",
       " 'only',\n",
       " 'or',\n",
       " 'other',\n",
       " 'our',\n",
       " 'ours',\n",
       " 'ourselves',\n",
       " 'out',\n",
       " 'over',\n",
       " 'own',\n",
       " 're',\n",
       " 's',\n",
       " 'same',\n",
       " 'shan',\n",
       " \"shan't\",\n",
       " 'she',\n",
       " \"she'd\",\n",
       " \"she'll\",\n",
       " \"she's\",\n",
       " 'should',\n",
       " 'shouldn',\n",
       " \"shouldn't\",\n",
       " \"should've\",\n",
       " 'so',\n",
       " 'some',\n",
       " 'such',\n",
       " 't',\n",
       " 'than',\n",
       " 'that',\n",
       " \"that'll\",\n",
       " 'the',\n",
       " 'their',\n",
       " 'theirs',\n",
       " 'them',\n",
       " 'themselves',\n",
       " 'then',\n",
       " 'there',\n",
       " 'these',\n",
       " 'they',\n",
       " \"they'd\",\n",
       " \"they'll\",\n",
       " \"they're\",\n",
       " \"they've\",\n",
       " 'this',\n",
       " 'those',\n",
       " 'through',\n",
       " 'to',\n",
       " 'too',\n",
       " 'under',\n",
       " 'until',\n",
       " 'up',\n",
       " 've',\n",
       " 'very',\n",
       " 'was',\n",
       " 'wasn',\n",
       " \"wasn't\",\n",
       " 'we',\n",
       " \"we'd\",\n",
       " \"we'll\",\n",
       " \"we're\",\n",
       " 'were',\n",
       " 'weren',\n",
       " \"weren't\",\n",
       " \"we've\",\n",
       " 'what',\n",
       " 'when',\n",
       " 'where',\n",
       " 'which',\n",
       " 'while',\n",
       " 'who',\n",
       " 'whom',\n",
       " 'why',\n",
       " 'will',\n",
       " 'with',\n",
       " 'won',\n",
       " \"won't\",\n",
       " 'wouldn',\n",
       " \"wouldn't\",\n",
       " 'y',\n",
       " 'you',\n",
       " \"you'd\",\n",
       " \"you'll\",\n",
       " 'your',\n",
       " \"you're\",\n",
       " 'yours',\n",
       " 'yourself',\n",
       " 'yourselves',\n",
       " \"you've\"]"
      ]
     },
     "execution_count": 111,
     "metadata": {},
     "output_type": "execute_result"
    }
   ],
   "source": [
    "sw"
   ]
  },
  {
   "cell_type": "code",
   "execution_count": 112,
   "id": "0d5c570a-2c05-4c4e-9870-1b62309f3b4a",
   "metadata": {},
   "outputs": [],
   "source": [
    "data[\"tweet\"] = data[\"tweet\"].apply(\n",
    "    lambda x : \" \".join (x for x in x.split() if x not in sw))"
   ]
  },
  {
   "cell_type": "code",
   "execution_count": 113,
   "id": "b608845a-4c28-4260-a41a-20d5ab5dcdd8",
   "metadata": {},
   "outputs": [
    {
     "data": {
      "text/plain": [
       "0    fingerprint pregnancy test anroi apps beautifu...\n",
       "1    finally transparant silicon case thanks uncle ...\n",
       "2    love woul go talk makememories unplug relax ip...\n",
       "3    wire know george mae way iphone cute aventry home\n",
       "4    amazing service apple even talk question unles...\n",
       "Name: tweet, dtype: object"
      ]
     },
     "execution_count": 113,
     "metadata": {},
     "output_type": "execute_result"
    }
   ],
   "source": [
    "data[\"tweet\"].head(5)"
   ]
  },
  {
   "cell_type": "markdown",
   "id": "2e8b3ea2-b136-49a7-9630-e36ef93ab234",
   "metadata": {},
   "source": [
    " "
   ]
  },
  {
   "cell_type": "markdown",
   "id": "02cfefd4-449f-4255-9b07-adc17936e1da",
   "metadata": {},
   "source": [
    "#Stemming"
   ]
  },
  {
   "cell_type": "code",
   "execution_count": 115,
   "id": "625f9866-223c-4c8d-980f-3b112154bdd4",
   "metadata": {},
   "outputs": [],
   "source": [
    "from nltk.stem import PorterStemmer\n",
    "ps = PorterStemmer()"
   ]
  },
  {
   "cell_type": "code",
   "execution_count": 116,
   "id": "cc2bf610-774f-49de-b427-345a6de7ba31",
   "metadata": {},
   "outputs": [],
   "source": [
    "data[\"tweet\"] = data[\"tweet\"].apply(\n",
    "    lambda x : \" \".join (ps.stem(x) for x in x.split()))"
   ]
  },
  {
   "cell_type": "code",
   "execution_count": 117,
   "id": "2735c49f-1b1e-40df-be54-bde13e13a871",
   "metadata": {},
   "outputs": [
    {
     "data": {
      "text/plain": [
       "0    fingerprint pregnanc test anroi app beauti cut...\n",
       "1    final transpar silicon case thank uncl yay son...\n",
       "2    love woul go talk makememori unplug relax ipho...\n",
       "3      wire know georg mae way iphon cute aventri home\n",
       "4    amaz servic appl even talk question unless pay...\n",
       "Name: tweet, dtype: object"
      ]
     },
     "execution_count": 117,
     "metadata": {},
     "output_type": "execute_result"
    }
   ],
   "source": [
    "data[\"tweet\"].head()"
   ]
  },
  {
   "cell_type": "code",
   "execution_count": 118,
   "id": "b9aa3fa2-021d-45de-b659-083bf31272d5",
   "metadata": {},
   "outputs": [
    {
     "data": {
      "text/plain": [
       "<PorterStemmer>"
      ]
     },
     "execution_count": 118,
     "metadata": {},
     "output_type": "execute_result"
    }
   ],
   "source": [
    "ps"
   ]
  },
  {
   "cell_type": "markdown",
   "id": "e891c048-ee99-499a-a85d-3e5a45facd96",
   "metadata": {},
   "source": [
    " "
   ]
  },
  {
   "cell_type": "markdown",
   "id": "6c2a8714-0a30-4b19-8c41-93027920048b",
   "metadata": {},
   "source": [
    "#Building Vacabulary"
   ]
  },
  {
   "cell_type": "code",
   "execution_count": 119,
   "id": "a5248d34-f07c-4ed3-ab64-a59241f19657",
   "metadata": {},
   "outputs": [],
   "source": [
    "from collections import Counter"
   ]
  },
  {
   "cell_type": "code",
   "execution_count": 120,
   "id": "4a8d29a4-e804-45e7-b16d-6afdb2d3170d",
   "metadata": {},
   "outputs": [],
   "source": [
    "vocab = Counter()"
   ]
  },
  {
   "cell_type": "code",
   "execution_count": 121,
   "id": "12cbf3b5-16f9-4e85-b23a-0775f99bd0bb",
   "metadata": {},
   "outputs": [],
   "source": [
    "for sentence in data[\"tweet\"] :\n",
    "    vocab.update(sentence.split())"
   ]
  },
  {
   "cell_type": "code",
   "execution_count": 122,
   "id": "db82459a-b98f-4aed-b1aa-b5b3ad877c30",
   "metadata": {},
   "outputs": [],
   "source": [
    "tokens = [key for key in vocab if vocab[key] > 10]"
   ]
  },
  {
   "cell_type": "code",
   "execution_count": 126,
   "id": "60b191a8-ca13-4353-832b-d55f7986c2cd",
   "metadata": {},
   "outputs": [],
   "source": [
    "def save_vocabulary(lines,filename):\n",
    "    data = '\\n'.join(lines)\n",
    "    file = open(filename,'w',encoding = 'utf-8')\n",
    "    file.write(data)\n",
    "    file.close()\n",
    "save_vocabulary(tokens,'../Static/model/vocabulary.txt')"
   ]
  },
  {
   "cell_type": "markdown",
   "id": "1b75116b-719a-4c56-b8c3-5172f36b837f",
   "metadata": {},
   "source": [
    " "
   ]
  },
  {
   "cell_type": "markdown",
   "id": "d2e1d25d-dbad-4c83-a703-d99fa1e4bb3b",
   "metadata": {},
   "source": [
    "#Divide Data Set"
   ]
  },
  {
   "cell_type": "code",
   "execution_count": 128,
   "id": "5f6894d7-aa1b-42e8-b572-3c38976da2ad",
   "metadata": {},
   "outputs": [],
   "source": [
    "x = data[\"tweet\"]\n",
    "y = data[\"label\"]"
   ]
  },
  {
   "cell_type": "code",
   "execution_count": 129,
   "id": "d9b23f9a-696e-4b19-b2f3-efb968012f3f",
   "metadata": {},
   "outputs": [
    {
     "name": "stdout",
     "output_type": "stream",
     "text": [
      "Collecting scikit-learn\n",
      "  Downloading scikit_learn-1.7.2-cp312-cp312-win_amd64.whl.metadata (11 kB)\n",
      "Requirement already satisfied: numpy>=1.22.0 in c:\\users\\asus creator\\desktop\\sentiment-analysis-project\\env\\lib\\site-packages (from scikit-learn) (2.3.3)\n",
      "Collecting scipy>=1.8.0 (from scikit-learn)\n",
      "  Downloading scipy-1.16.2-cp312-cp312-win_amd64.whl.metadata (60 kB)\n",
      "Requirement already satisfied: joblib>=1.2.0 in c:\\users\\asus creator\\desktop\\sentiment-analysis-project\\env\\lib\\site-packages (from scikit-learn) (1.5.2)\n",
      "Collecting threadpoolctl>=3.1.0 (from scikit-learn)\n",
      "  Downloading threadpoolctl-3.6.0-py3-none-any.whl.metadata (13 kB)\n",
      "Downloading scikit_learn-1.7.2-cp312-cp312-win_amd64.whl (8.7 MB)\n",
      "   ---------------------------------------- 0.0/8.7 MB ? eta -:--:--\n",
      "   ---------------------------------------- 0.0/8.7 MB ? eta -:--:--\n",
      "   - -------------------------------------- 0.3/8.7 MB ? eta -:--:--\n",
      "   --- ------------------------------------ 0.8/8.7 MB 1.5 MB/s eta 0:00:06\n",
      "   ------ --------------------------------- 1.3/8.7 MB 1.7 MB/s eta 0:00:05\n",
      "   ------- -------------------------------- 1.6/8.7 MB 1.7 MB/s eta 0:00:05\n",
      "   -------- ------------------------------- 1.8/8.7 MB 1.7 MB/s eta 0:00:04\n",
      "   ---------- ----------------------------- 2.4/8.7 MB 1.7 MB/s eta 0:00:04\n",
      "   ------------- -------------------------- 2.9/8.7 MB 1.8 MB/s eta 0:00:04\n",
      "   --------------- ------------------------ 3.4/8.7 MB 2.0 MB/s eta 0:00:03\n",
      "   ---------------- ----------------------- 3.7/8.7 MB 1.9 MB/s eta 0:00:03\n",
      "   ------------------- -------------------- 4.2/8.7 MB 2.0 MB/s eta 0:00:03\n",
      "   -------------------- ------------------- 4.5/8.7 MB 1.9 MB/s eta 0:00:03\n",
      "   ---------------------- ----------------- 5.0/8.7 MB 1.9 MB/s eta 0:00:02\n",
      "   ------------------------ --------------- 5.2/8.7 MB 1.9 MB/s eta 0:00:02\n",
      "   -------------------------- ------------- 5.8/8.7 MB 2.0 MB/s eta 0:00:02\n",
      "   --------------------------- ------------ 6.0/8.7 MB 1.9 MB/s eta 0:00:02\n",
      "   --------------------------- ------------ 6.0/8.7 MB 1.9 MB/s eta 0:00:02\n",
      "   ------------------------------ --------- 6.6/8.7 MB 1.8 MB/s eta 0:00:02\n",
      "   ------------------------------ --------- 6.6/8.7 MB 1.8 MB/s eta 0:00:02\n",
      "   ------------------------------ --------- 6.6/8.7 MB 1.8 MB/s eta 0:00:02\n",
      "   ------------------------------ --------- 6.6/8.7 MB 1.8 MB/s eta 0:00:02\n",
      "   ------------------------------- -------- 6.8/8.7 MB 1.6 MB/s eta 0:00:02\n",
      "   --------------------------------- ------ 7.3/8.7 MB 1.6 MB/s eta 0:00:01\n",
      "   ---------------------------------- ----- 7.6/8.7 MB 1.6 MB/s eta 0:00:01\n",
      "   ------------------------------------- -- 8.1/8.7 MB 1.6 MB/s eta 0:00:01\n",
      "   ---------------------------------------  8.7/8.7 MB 1.6 MB/s eta 0:00:01\n",
      "   ---------------------------------------- 8.7/8.7 MB 1.6 MB/s  0:00:05\n",
      "Downloading scipy-1.16.2-cp312-cp312-win_amd64.whl (38.6 MB)\n",
      "   ---------------------------------------- 0.0/38.6 MB ? eta -:--:--\n",
      "   ---------------------------------------- 0.3/38.6 MB ? eta -:--:--\n",
      "    --------------------------------------- 0.5/38.6 MB 1.1 MB/s eta 0:00:35\n",
      "    --------------------------------------- 0.5/38.6 MB 1.1 MB/s eta 0:00:35\n",
      "    --------------------------------------- 0.8/38.6 MB 958.5 kB/s eta 0:00:40\n",
      "   - -------------------------------------- 1.3/38.6 MB 1.2 MB/s eta 0:00:30\n",
      "   - -------------------------------------- 1.6/38.6 MB 1.3 MB/s eta 0:00:28\n",
      "   - -------------------------------------- 1.8/38.6 MB 1.2 MB/s eta 0:00:30\n",
      "   -- ------------------------------------- 2.1/38.6 MB 1.3 MB/s eta 0:00:29\n",
      "   -- ------------------------------------- 2.4/38.6 MB 1.3 MB/s eta 0:00:29\n",
      "   -- ------------------------------------- 2.6/38.6 MB 1.3 MB/s eta 0:00:29\n",
      "   -- ------------------------------------- 2.9/38.6 MB 1.3 MB/s eta 0:00:28\n",
      "   --- ------------------------------------ 3.4/38.6 MB 1.4 MB/s eta 0:00:27\n",
      "   --- ------------------------------------ 3.7/38.6 MB 1.4 MB/s eta 0:00:26\n",
      "   ---- ----------------------------------- 3.9/38.6 MB 1.4 MB/s eta 0:00:26\n",
      "   ---- ----------------------------------- 4.2/38.6 MB 1.4 MB/s eta 0:00:25\n",
      "   ---- ----------------------------------- 4.5/38.6 MB 1.3 MB/s eta 0:00:26\n",
      "   ---- ----------------------------------- 4.7/38.6 MB 1.3 MB/s eta 0:00:26\n",
      "   ---- ----------------------------------- 4.7/38.6 MB 1.3 MB/s eta 0:00:26\n",
      "   ----- ---------------------------------- 5.0/38.6 MB 1.3 MB/s eta 0:00:27\n",
      "   ----- ---------------------------------- 5.2/38.6 MB 1.3 MB/s eta 0:00:26\n",
      "   ----- ---------------------------------- 5.5/38.6 MB 1.3 MB/s eta 0:00:26\n",
      "   ----- ---------------------------------- 5.8/38.6 MB 1.3 MB/s eta 0:00:26\n",
      "   ------ --------------------------------- 6.0/38.6 MB 1.2 MB/s eta 0:00:27\n",
      "   ------ --------------------------------- 6.0/38.6 MB 1.2 MB/s eta 0:00:27\n",
      "   ------ --------------------------------- 6.3/38.6 MB 1.2 MB/s eta 0:00:27\n",
      "   ------ --------------------------------- 6.6/38.6 MB 1.2 MB/s eta 0:00:27\n",
      "   ------- -------------------------------- 6.8/38.6 MB 1.2 MB/s eta 0:00:27\n",
      "   ------- -------------------------------- 7.1/38.6 MB 1.2 MB/s eta 0:00:26\n",
      "   ------- -------------------------------- 7.6/38.6 MB 1.2 MB/s eta 0:00:25\n",
      "   -------- ------------------------------- 7.9/38.6 MB 1.3 MB/s eta 0:00:25\n",
      "   -------- ------------------------------- 8.4/38.6 MB 1.3 MB/s eta 0:00:24\n",
      "   -------- ------------------------------- 8.7/38.6 MB 1.3 MB/s eta 0:00:24\n",
      "   --------- ------------------------------ 9.2/38.6 MB 1.3 MB/s eta 0:00:23\n",
      "   --------- ------------------------------ 9.4/38.6 MB 1.3 MB/s eta 0:00:23\n",
      "   ---------- ----------------------------- 9.7/38.6 MB 1.3 MB/s eta 0:00:22\n",
      "   ---------- ----------------------------- 9.7/38.6 MB 1.3 MB/s eta 0:00:22\n",
      "   ---------- ----------------------------- 9.7/38.6 MB 1.3 MB/s eta 0:00:22\n",
      "   ---------- ----------------------------- 10.0/38.6 MB 1.2 MB/s eta 0:00:23\n",
      "   ---------- ----------------------------- 10.0/38.6 MB 1.2 MB/s eta 0:00:23\n",
      "   ---------- ----------------------------- 10.2/38.6 MB 1.2 MB/s eta 0:00:24\n",
      "   ---------- ----------------------------- 10.2/38.6 MB 1.2 MB/s eta 0:00:24\n",
      "   ---------- ----------------------------- 10.5/38.6 MB 1.2 MB/s eta 0:00:24\n",
      "   ----------- ---------------------------- 10.7/38.6 MB 1.2 MB/s eta 0:00:24\n",
      "   ----------- ---------------------------- 11.0/38.6 MB 1.2 MB/s eta 0:00:24\n",
      "   ----------- ---------------------------- 11.5/38.6 MB 1.2 MB/s eta 0:00:23\n",
      "   ------------ --------------------------- 12.1/38.6 MB 1.2 MB/s eta 0:00:22\n",
      "   ------------ --------------------------- 12.1/38.6 MB 1.2 MB/s eta 0:00:22\n",
      "   ------------- -------------------------- 12.6/38.6 MB 1.2 MB/s eta 0:00:21\n",
      "   ------------- -------------------------- 12.8/38.6 MB 1.2 MB/s eta 0:00:21\n",
      "   ------------- -------------------------- 13.1/38.6 MB 1.2 MB/s eta 0:00:21\n",
      "   ------------- -------------------------- 13.4/38.6 MB 1.2 MB/s eta 0:00:21\n",
      "   -------------- ------------------------- 13.6/38.6 MB 1.2 MB/s eta 0:00:20\n",
      "   -------------- ------------------------- 13.9/38.6 MB 1.2 MB/s eta 0:00:20\n",
      "   -------------- ------------------------- 14.2/38.6 MB 1.2 MB/s eta 0:00:20\n",
      "   -------------- ------------------------- 14.4/38.6 MB 1.2 MB/s eta 0:00:20\n",
      "   --------------- ------------------------ 14.7/38.6 MB 1.2 MB/s eta 0:00:20\n",
      "   --------------- ------------------------ 14.7/38.6 MB 1.2 MB/s eta 0:00:20\n",
      "   --------------- ------------------------ 14.9/38.6 MB 1.2 MB/s eta 0:00:20\n",
      "   --------------- ------------------------ 15.2/38.6 MB 1.2 MB/s eta 0:00:20\n",
      "   ---------------- ----------------------- 15.5/38.6 MB 1.2 MB/s eta 0:00:19\n",
      "   ---------------- ----------------------- 15.7/38.6 MB 1.2 MB/s eta 0:00:19\n",
      "   ---------------- ----------------------- 16.0/38.6 MB 1.2 MB/s eta 0:00:19\n",
      "   ---------------- ----------------------- 16.3/38.6 MB 1.2 MB/s eta 0:00:19\n",
      "   ----------------- ---------------------- 16.5/38.6 MB 1.2 MB/s eta 0:00:18\n",
      "   ----------------- ---------------------- 16.8/38.6 MB 1.2 MB/s eta 0:00:18\n",
      "   ----------------- ---------------------- 17.0/38.6 MB 1.2 MB/s eta 0:00:18\n",
      "   ------------------ --------------------- 17.6/38.6 MB 1.2 MB/s eta 0:00:17\n",
      "   ------------------ --------------------- 17.8/38.6 MB 1.2 MB/s eta 0:00:17\n",
      "   ------------------ --------------------- 18.1/38.6 MB 1.2 MB/s eta 0:00:17\n",
      "   ------------------- -------------------- 18.4/38.6 MB 1.2 MB/s eta 0:00:17\n",
      "   ------------------- -------------------- 18.6/38.6 MB 1.2 MB/s eta 0:00:16\n",
      "   ------------------- -------------------- 18.9/38.6 MB 1.2 MB/s eta 0:00:16\n",
      "   ------------------- -------------------- 19.1/38.6 MB 1.2 MB/s eta 0:00:16\n",
      "   -------------------- ------------------- 19.4/38.6 MB 1.2 MB/s eta 0:00:16\n",
      "   -------------------- ------------------- 19.7/38.6 MB 1.3 MB/s eta 0:00:16\n",
      "   -------------------- ------------------- 20.2/38.6 MB 1.3 MB/s eta 0:00:15\n",
      "   --------------------- ------------------ 20.4/38.6 MB 1.3 MB/s eta 0:00:15\n",
      "   --------------------- ------------------ 21.0/38.6 MB 1.3 MB/s eta 0:00:14\n",
      "   ---------------------- ----------------- 21.2/38.6 MB 1.3 MB/s eta 0:00:14\n",
      "   ---------------------- ----------------- 21.8/38.6 MB 1.3 MB/s eta 0:00:14\n",
      "   ---------------------- ----------------- 22.0/38.6 MB 1.3 MB/s eta 0:00:13\n",
      "   ----------------------- ---------------- 22.5/38.6 MB 1.3 MB/s eta 0:00:13\n",
      "   ----------------------- ---------------- 22.8/38.6 MB 1.3 MB/s eta 0:00:13\n",
      "   ----------------------- ---------------- 23.1/38.6 MB 1.3 MB/s eta 0:00:12\n",
      "   ------------------------ --------------- 23.6/38.6 MB 1.3 MB/s eta 0:00:12\n",
      "   ------------------------ --------------- 23.9/38.6 MB 1.3 MB/s eta 0:00:12\n",
      "   ------------------------- -------------- 24.1/38.6 MB 1.3 MB/s eta 0:00:11\n",
      "   ------------------------- -------------- 24.6/38.6 MB 1.3 MB/s eta 0:00:11\n",
      "   ------------------------- -------------- 24.9/38.6 MB 1.3 MB/s eta 0:00:11\n",
      "   -------------------------- ------------- 25.2/38.6 MB 1.3 MB/s eta 0:00:11\n",
      "   -------------------------- ------------- 25.4/38.6 MB 1.3 MB/s eta 0:00:10\n",
      "   -------------------------- ------------- 25.7/38.6 MB 1.3 MB/s eta 0:00:10\n",
      "   --------------------------- ------------ 26.2/38.6 MB 1.3 MB/s eta 0:00:10\n",
      "   --------------------------- ------------ 26.7/38.6 MB 1.4 MB/s eta 0:00:09\n",
      "   ---------------------------- ----------- 27.3/38.6 MB 1.4 MB/s eta 0:00:09\n",
      "   ---------------------------- ----------- 27.5/38.6 MB 1.4 MB/s eta 0:00:09\n",
      "   ----------------------------- ---------- 28.0/38.6 MB 1.4 MB/s eta 0:00:08\n",
      "   ----------------------------- ---------- 28.3/38.6 MB 1.4 MB/s eta 0:00:08\n",
      "   ----------------------------- ---------- 28.8/38.6 MB 1.4 MB/s eta 0:00:08\n",
      "   ------------------------------ --------- 29.1/38.6 MB 1.4 MB/s eta 0:00:07\n",
      "   ------------------------------ --------- 29.4/38.6 MB 1.4 MB/s eta 0:00:07\n",
      "   ------------------------------ --------- 29.4/38.6 MB 1.4 MB/s eta 0:00:07\n",
      "   ------------------------------ --------- 29.6/38.6 MB 1.4 MB/s eta 0:00:07\n",
      "   ------------------------------- -------- 30.1/38.6 MB 1.4 MB/s eta 0:00:07\n",
      "   ------------------------------- -------- 30.4/38.6 MB 1.4 MB/s eta 0:00:06\n",
      "   -------------------------------- ------- 30.9/38.6 MB 1.4 MB/s eta 0:00:06\n",
      "   -------------------------------- ------- 31.5/38.6 MB 1.4 MB/s eta 0:00:06\n",
      "   -------------------------------- ------- 31.7/38.6 MB 1.4 MB/s eta 0:00:05\n",
      "   --------------------------------- ------ 32.0/38.6 MB 1.4 MB/s eta 0:00:05\n",
      "   --------------------------------- ------ 32.2/38.6 MB 1.4 MB/s eta 0:00:05\n",
      "   --------------------------------- ------ 32.5/38.6 MB 1.4 MB/s eta 0:00:05\n",
      "   ---------------------------------- ----- 33.0/38.6 MB 1.4 MB/s eta 0:00:04\n",
      "   ---------------------------------- ----- 33.3/38.6 MB 1.4 MB/s eta 0:00:04\n",
      "   ---------------------------------- ----- 33.6/38.6 MB 1.4 MB/s eta 0:00:04\n",
      "   ----------------------------------- ---- 34.1/38.6 MB 1.4 MB/s eta 0:00:04\n",
      "   ----------------------------------- ---- 34.6/38.6 MB 1.4 MB/s eta 0:00:03\n",
      "   ------------------------------------ --- 34.9/38.6 MB 1.4 MB/s eta 0:00:03\n",
      "   ------------------------------------ --- 35.4/38.6 MB 1.4 MB/s eta 0:00:03\n",
      "   ------------------------------------ --- 35.7/38.6 MB 1.4 MB/s eta 0:00:03\n",
      "   ------------------------------------- -- 36.2/38.6 MB 1.4 MB/s eta 0:00:02\n",
      "   ------------------------------------- -- 36.4/38.6 MB 1.4 MB/s eta 0:00:02\n",
      "   -------------------------------------- - 37.0/38.6 MB 1.4 MB/s eta 0:00:02\n",
      "   -------------------------------------- - 37.2/38.6 MB 1.4 MB/s eta 0:00:01\n",
      "   ---------------------------------------  37.7/38.6 MB 1.4 MB/s eta 0:00:01\n",
      "   ---------------------------------------  38.0/38.6 MB 1.4 MB/s eta 0:00:01\n",
      "   ---------------------------------------  38.5/38.6 MB 1.4 MB/s eta 0:00:01\n",
      "   ---------------------------------------- 38.6/38.6 MB 1.4 MB/s  0:00:26\n",
      "Downloading threadpoolctl-3.6.0-py3-none-any.whl (18 kB)\n",
      "Installing collected packages: threadpoolctl, scipy, scikit-learn\n",
      "\n",
      "   ------------- -------------------------- 1/3 [scipy]\n",
      "   ------------- -------------------------- 1/3 [scipy]\n",
      "   ------------- -------------------------- 1/3 [scipy]\n",
      "   ------------- -------------------------- 1/3 [scipy]\n",
      "   ------------- -------------------------- 1/3 [scipy]\n",
      "   ------------- -------------------------- 1/3 [scipy]\n",
      "   ------------- -------------------------- 1/3 [scipy]\n",
      "   ------------- -------------------------- 1/3 [scipy]\n",
      "   ------------- -------------------------- 1/3 [scipy]\n",
      "   ------------- -------------------------- 1/3 [scipy]\n",
      "   ------------- -------------------------- 1/3 [scipy]\n",
      "   ------------- -------------------------- 1/3 [scipy]\n",
      "   ------------- -------------------------- 1/3 [scipy]\n",
      "   ------------- -------------------------- 1/3 [scipy]\n",
      "   ------------- -------------------------- 1/3 [scipy]\n",
      "   ------------- -------------------------- 1/3 [scipy]\n",
      "   ------------- -------------------------- 1/3 [scipy]\n",
      "   ------------- -------------------------- 1/3 [scipy]\n",
      "   ------------- -------------------------- 1/3 [scipy]\n",
      "   ------------- -------------------------- 1/3 [scipy]\n",
      "   ------------- -------------------------- 1/3 [scipy]\n",
      "   ------------- -------------------------- 1/3 [scipy]\n",
      "   ------------- -------------------------- 1/3 [scipy]\n",
      "   ------------- -------------------------- 1/3 [scipy]\n",
      "   ------------- -------------------------- 1/3 [scipy]\n",
      "   ------------- -------------------------- 1/3 [scipy]\n",
      "   ------------- -------------------------- 1/3 [scipy]\n",
      "   ------------- -------------------------- 1/3 [scipy]\n",
      "   ------------- -------------------------- 1/3 [scipy]\n",
      "   ------------- -------------------------- 1/3 [scipy]\n",
      "   ------------- -------------------------- 1/3 [scipy]\n",
      "   ------------- -------------------------- 1/3 [scipy]\n",
      "   ------------- -------------------------- 1/3 [scipy]\n",
      "   ------------- -------------------------- 1/3 [scipy]\n",
      "   ------------- -------------------------- 1/3 [scipy]\n",
      "   ------------- -------------------------- 1/3 [scipy]\n",
      "   ------------- -------------------------- 1/3 [scipy]\n",
      "   ------------- -------------------------- 1/3 [scipy]\n",
      "   ------------- -------------------------- 1/3 [scipy]\n",
      "   ------------- -------------------------- 1/3 [scipy]\n",
      "   ------------- -------------------------- 1/3 [scipy]\n",
      "   ------------- -------------------------- 1/3 [scipy]\n",
      "   ------------- -------------------------- 1/3 [scipy]\n",
      "   ------------- -------------------------- 1/3 [scipy]\n",
      "   ------------- -------------------------- 1/3 [scipy]\n",
      "   ------------- -------------------------- 1/3 [scipy]\n",
      "   ------------- -------------------------- 1/3 [scipy]\n",
      "   ------------- -------------------------- 1/3 [scipy]\n",
      "   ------------- -------------------------- 1/3 [scipy]\n",
      "   ------------- -------------------------- 1/3 [scipy]\n",
      "   ------------- -------------------------- 1/3 [scipy]\n",
      "   ------------- -------------------------- 1/3 [scipy]\n",
      "   ------------- -------------------------- 1/3 [scipy]\n",
      "   ------------- -------------------------- 1/3 [scipy]\n",
      "   ------------- -------------------------- 1/3 [scipy]\n",
      "   ------------- -------------------------- 1/3 [scipy]\n",
      "   ------------- -------------------------- 1/3 [scipy]\n",
      "   ------------- -------------------------- 1/3 [scipy]\n",
      "   ------------- -------------------------- 1/3 [scipy]\n",
      "   ------------- -------------------------- 1/3 [scipy]\n",
      "   ------------- -------------------------- 1/3 [scipy]\n",
      "   ------------- -------------------------- 1/3 [scipy]\n",
      "   ------------- -------------------------- 1/3 [scipy]\n",
      "   ------------- -------------------------- 1/3 [scipy]\n",
      "   ------------- -------------------------- 1/3 [scipy]\n",
      "   ------------- -------------------------- 1/3 [scipy]\n",
      "   ------------- -------------------------- 1/3 [scipy]\n",
      "   ------------- -------------------------- 1/3 [scipy]\n",
      "   ------------- -------------------------- 1/3 [scipy]\n",
      "   ------------- -------------------------- 1/3 [scipy]\n",
      "   ------------- -------------------------- 1/3 [scipy]\n",
      "   ------------- -------------------------- 1/3 [scipy]\n",
      "   ------------- -------------------------- 1/3 [scipy]\n",
      "   ------------- -------------------------- 1/3 [scipy]\n",
      "   ------------- -------------------------- 1/3 [scipy]\n",
      "   ------------- -------------------------- 1/3 [scipy]\n",
      "   ------------- -------------------------- 1/3 [scipy]\n",
      "   ------------- -------------------------- 1/3 [scipy]\n",
      "   ------------- -------------------------- 1/3 [scipy]\n",
      "   ------------- -------------------------- 1/3 [scipy]\n",
      "   ------------- -------------------------- 1/3 [scipy]\n",
      "   ------------- -------------------------- 1/3 [scipy]\n",
      "   ------------- -------------------------- 1/3 [scipy]\n",
      "   ------------- -------------------------- 1/3 [scipy]\n",
      "   ------------- -------------------------- 1/3 [scipy]\n",
      "   ------------- -------------------------- 1/3 [scipy]\n",
      "   ------------- -------------------------- 1/3 [scipy]\n",
      "   ------------- -------------------------- 1/3 [scipy]\n",
      "   ------------- -------------------------- 1/3 [scipy]\n",
      "   ------------- -------------------------- 1/3 [scipy]\n",
      "   ------------- -------------------------- 1/3 [scipy]\n",
      "   ------------- -------------------------- 1/3 [scipy]\n",
      "   ------------- -------------------------- 1/3 [scipy]\n",
      "   ------------- -------------------------- 1/3 [scipy]\n",
      "   ------------- -------------------------- 1/3 [scipy]\n",
      "   ------------- -------------------------- 1/3 [scipy]\n",
      "   ------------- -------------------------- 1/3 [scipy]\n",
      "   ------------- -------------------------- 1/3 [scipy]\n",
      "   ------------- -------------------------- 1/3 [scipy]\n",
      "   ------------- -------------------------- 1/3 [scipy]\n",
      "   ------------- -------------------------- 1/3 [scipy]\n",
      "   ------------- -------------------------- 1/3 [scipy]\n",
      "   ------------- -------------------------- 1/3 [scipy]\n",
      "   ------------- -------------------------- 1/3 [scipy]\n",
      "   ------------- -------------------------- 1/3 [scipy]\n",
      "   ------------- -------------------------- 1/3 [scipy]\n",
      "   ------------- -------------------------- 1/3 [scipy]\n",
      "   ------------- -------------------------- 1/3 [scipy]\n",
      "   ------------- -------------------------- 1/3 [scipy]\n",
      "   ------------- -------------------------- 1/3 [scipy]\n",
      "   ------------- -------------------------- 1/3 [scipy]\n",
      "   ------------- -------------------------- 1/3 [scipy]\n",
      "   ------------- -------------------------- 1/3 [scipy]\n",
      "   ------------- -------------------------- 1/3 [scipy]\n",
      "   ------------- -------------------------- 1/3 [scipy]\n",
      "   ------------- -------------------------- 1/3 [scipy]\n",
      "   ------------- -------------------------- 1/3 [scipy]\n",
      "   ------------- -------------------------- 1/3 [scipy]\n",
      "   ------------- -------------------------- 1/3 [scipy]\n",
      "   ------------- -------------------------- 1/3 [scipy]\n",
      "   ------------- -------------------------- 1/3 [scipy]\n",
      "   ------------- -------------------------- 1/3 [scipy]\n",
      "   ------------- -------------------------- 1/3 [scipy]\n",
      "   ------------- -------------------------- 1/3 [scipy]\n",
      "   ------------- -------------------------- 1/3 [scipy]\n",
      "   ------------- -------------------------- 1/3 [scipy]\n",
      "   ------------- -------------------------- 1/3 [scipy]\n",
      "   ------------- -------------------------- 1/3 [scipy]\n",
      "   ------------- -------------------------- 1/3 [scipy]\n",
      "   ------------- -------------------------- 1/3 [scipy]\n",
      "   ------------- -------------------------- 1/3 [scipy]\n",
      "   ------------- -------------------------- 1/3 [scipy]\n",
      "   ------------- -------------------------- 1/3 [scipy]\n",
      "   ------------- -------------------------- 1/3 [scipy]\n",
      "   ------------- -------------------------- 1/3 [scipy]\n",
      "   ------------- -------------------------- 1/3 [scipy]\n",
      "   ------------- -------------------------- 1/3 [scipy]\n",
      "   ------------- -------------------------- 1/3 [scipy]\n",
      "   ------------- -------------------------- 1/3 [scipy]\n",
      "   ------------- -------------------------- 1/3 [scipy]\n",
      "   ------------- -------------------------- 1/3 [scipy]\n",
      "   ------------- -------------------------- 1/3 [scipy]\n",
      "   ------------- -------------------------- 1/3 [scipy]\n",
      "   ------------- -------------------------- 1/3 [scipy]\n",
      "   ------------- -------------------------- 1/3 [scipy]\n",
      "   ------------- -------------------------- 1/3 [scipy]\n",
      "   ------------- -------------------------- 1/3 [scipy]\n",
      "   ------------- -------------------------- 1/3 [scipy]\n",
      "   ------------- -------------------------- 1/3 [scipy]\n",
      "   ------------- -------------------------- 1/3 [scipy]\n",
      "   ------------- -------------------------- 1/3 [scipy]\n",
      "   ------------- -------------------------- 1/3 [scipy]\n",
      "   ------------- -------------------------- 1/3 [scipy]\n",
      "   ------------- -------------------------- 1/3 [scipy]\n",
      "   ------------- -------------------------- 1/3 [scipy]\n",
      "   ------------- -------------------------- 1/3 [scipy]\n",
      "   ------------- -------------------------- 1/3 [scipy]\n",
      "   ------------- -------------------------- 1/3 [scipy]\n",
      "   ------------- -------------------------- 1/3 [scipy]\n",
      "   ------------- -------------------------- 1/3 [scipy]\n",
      "   ------------- -------------------------- 1/3 [scipy]\n",
      "   ------------- -------------------------- 1/3 [scipy]\n",
      "   ------------- -------------------------- 1/3 [scipy]\n",
      "   ------------- -------------------------- 1/3 [scipy]\n",
      "   ------------- -------------------------- 1/3 [scipy]\n",
      "   ------------- -------------------------- 1/3 [scipy]\n",
      "   ------------- -------------------------- 1/3 [scipy]\n",
      "   ------------- -------------------------- 1/3 [scipy]\n",
      "   ------------- -------------------------- 1/3 [scipy]\n",
      "   ------------- -------------------------- 1/3 [scipy]\n",
      "   ------------- -------------------------- 1/3 [scipy]\n",
      "   ------------- -------------------------- 1/3 [scipy]\n",
      "   ------------- -------------------------- 1/3 [scipy]\n",
      "   ------------- -------------------------- 1/3 [scipy]\n",
      "   ------------- -------------------------- 1/3 [scipy]\n",
      "   ------------- -------------------------- 1/3 [scipy]\n",
      "   ------------- -------------------------- 1/3 [scipy]\n",
      "   ------------- -------------------------- 1/3 [scipy]\n",
      "   ------------- -------------------------- 1/3 [scipy]\n",
      "   ------------- -------------------------- 1/3 [scipy]\n",
      "   ------------- -------------------------- 1/3 [scipy]\n",
      "   ------------- -------------------------- 1/3 [scipy]\n",
      "   ------------- -------------------------- 1/3 [scipy]\n",
      "   ------------- -------------------------- 1/3 [scipy]\n",
      "   ------------- -------------------------- 1/3 [scipy]\n",
      "   ------------- -------------------------- 1/3 [scipy]\n",
      "   ------------- -------------------------- 1/3 [scipy]\n",
      "   ------------- -------------------------- 1/3 [scipy]\n",
      "   ------------- -------------------------- 1/3 [scipy]\n",
      "   ------------- -------------------------- 1/3 [scipy]\n",
      "   ------------- -------------------------- 1/3 [scipy]\n",
      "   ------------- -------------------------- 1/3 [scipy]\n",
      "   ------------- -------------------------- 1/3 [scipy]\n",
      "   ------------- -------------------------- 1/3 [scipy]\n",
      "   ------------- -------------------------- 1/3 [scipy]\n",
      "   ------------- -------------------------- 1/3 [scipy]\n",
      "   -------------------------- ------------- 2/3 [scikit-learn]\n",
      "   -------------------------- ------------- 2/3 [scikit-learn]\n",
      "   -------------------------- ------------- 2/3 [scikit-learn]\n",
      "   -------------------------- ------------- 2/3 [scikit-learn]\n",
      "   -------------------------- ------------- 2/3 [scikit-learn]\n",
      "   -------------------------- ------------- 2/3 [scikit-learn]\n",
      "   -------------------------- ------------- 2/3 [scikit-learn]\n",
      "   -------------------------- ------------- 2/3 [scikit-learn]\n",
      "   -------------------------- ------------- 2/3 [scikit-learn]\n",
      "   -------------------------- ------------- 2/3 [scikit-learn]\n",
      "   -------------------------- ------------- 2/3 [scikit-learn]\n",
      "   -------------------------- ------------- 2/3 [scikit-learn]\n",
      "   -------------------------- ------------- 2/3 [scikit-learn]\n",
      "   -------------------------- ------------- 2/3 [scikit-learn]\n",
      "   -------------------------- ------------- 2/3 [scikit-learn]\n",
      "   -------------------------- ------------- 2/3 [scikit-learn]\n",
      "   -------------------------- ------------- 2/3 [scikit-learn]\n",
      "   -------------------------- ------------- 2/3 [scikit-learn]\n",
      "   -------------------------- ------------- 2/3 [scikit-learn]\n",
      "   -------------------------- ------------- 2/3 [scikit-learn]\n",
      "   -------------------------- ------------- 2/3 [scikit-learn]\n",
      "   -------------------------- ------------- 2/3 [scikit-learn]\n",
      "   -------------------------- ------------- 2/3 [scikit-learn]\n",
      "   -------------------------- ------------- 2/3 [scikit-learn]\n",
      "   -------------------------- ------------- 2/3 [scikit-learn]\n",
      "   -------------------------- ------------- 2/3 [scikit-learn]\n",
      "   -------------------------- ------------- 2/3 [scikit-learn]\n",
      "   -------------------------- ------------- 2/3 [scikit-learn]\n",
      "   -------------------------- ------------- 2/3 [scikit-learn]\n",
      "   -------------------------- ------------- 2/3 [scikit-learn]\n",
      "   -------------------------- ------------- 2/3 [scikit-learn]\n",
      "   -------------------------- ------------- 2/3 [scikit-learn]\n",
      "   -------------------------- ------------- 2/3 [scikit-learn]\n",
      "   -------------------------- ------------- 2/3 [scikit-learn]\n",
      "   -------------------------- ------------- 2/3 [scikit-learn]\n",
      "   -------------------------- ------------- 2/3 [scikit-learn]\n",
      "   -------------------------- ------------- 2/3 [scikit-learn]\n",
      "   -------------------------- ------------- 2/3 [scikit-learn]\n",
      "   -------------------------- ------------- 2/3 [scikit-learn]\n",
      "   -------------------------- ------------- 2/3 [scikit-learn]\n",
      "   -------------------------- ------------- 2/3 [scikit-learn]\n",
      "   -------------------------- ------------- 2/3 [scikit-learn]\n",
      "   -------------------------- ------------- 2/3 [scikit-learn]\n",
      "   -------------------------- ------------- 2/3 [scikit-learn]\n",
      "   -------------------------- ------------- 2/3 [scikit-learn]\n",
      "   -------------------------- ------------- 2/3 [scikit-learn]\n",
      "   -------------------------- ------------- 2/3 [scikit-learn]\n",
      "   -------------------------- ------------- 2/3 [scikit-learn]\n",
      "   -------------------------- ------------- 2/3 [scikit-learn]\n",
      "   -------------------------- ------------- 2/3 [scikit-learn]\n",
      "   -------------------------- ------------- 2/3 [scikit-learn]\n",
      "   -------------------------- ------------- 2/3 [scikit-learn]\n",
      "   -------------------------- ------------- 2/3 [scikit-learn]\n",
      "   -------------------------- ------------- 2/3 [scikit-learn]\n",
      "   -------------------------- ------------- 2/3 [scikit-learn]\n",
      "   -------------------------- ------------- 2/3 [scikit-learn]\n",
      "   -------------------------- ------------- 2/3 [scikit-learn]\n",
      "   -------------------------- ------------- 2/3 [scikit-learn]\n",
      "   -------------------------- ------------- 2/3 [scikit-learn]\n",
      "   -------------------------- ------------- 2/3 [scikit-learn]\n",
      "   -------------------------- ------------- 2/3 [scikit-learn]\n",
      "   -------------------------- ------------- 2/3 [scikit-learn]\n",
      "   -------------------------- ------------- 2/3 [scikit-learn]\n",
      "   -------------------------- ------------- 2/3 [scikit-learn]\n",
      "   -------------------------- ------------- 2/3 [scikit-learn]\n",
      "   -------------------------- ------------- 2/3 [scikit-learn]\n",
      "   -------------------------- ------------- 2/3 [scikit-learn]\n",
      "   -------------------------- ------------- 2/3 [scikit-learn]\n",
      "   -------------------------- ------------- 2/3 [scikit-learn]\n",
      "   -------------------------- ------------- 2/3 [scikit-learn]\n",
      "   -------------------------- ------------- 2/3 [scikit-learn]\n",
      "   -------------------------- ------------- 2/3 [scikit-learn]\n",
      "   -------------------------- ------------- 2/3 [scikit-learn]\n",
      "   -------------------------- ------------- 2/3 [scikit-learn]\n",
      "   -------------------------- ------------- 2/3 [scikit-learn]\n",
      "   -------------------------- ------------- 2/3 [scikit-learn]\n",
      "   -------------------------- ------------- 2/3 [scikit-learn]\n",
      "   -------------------------- ------------- 2/3 [scikit-learn]\n",
      "   -------------------------- ------------- 2/3 [scikit-learn]\n",
      "   -------------------------- ------------- 2/3 [scikit-learn]\n",
      "   -------------------------- ------------- 2/3 [scikit-learn]\n",
      "   -------------------------- ------------- 2/3 [scikit-learn]\n",
      "   -------------------------- ------------- 2/3 [scikit-learn]\n",
      "   -------------------------- ------------- 2/3 [scikit-learn]\n",
      "   -------------------------- ------------- 2/3 [scikit-learn]\n",
      "   -------------------------- ------------- 2/3 [scikit-learn]\n",
      "   -------------------------- ------------- 2/3 [scikit-learn]\n",
      "   -------------------------- ------------- 2/3 [scikit-learn]\n",
      "   -------------------------- ------------- 2/3 [scikit-learn]\n",
      "   -------------------------- ------------- 2/3 [scikit-learn]\n",
      "   -------------------------- ------------- 2/3 [scikit-learn]\n",
      "   -------------------------- ------------- 2/3 [scikit-learn]\n",
      "   -------------------------- ------------- 2/3 [scikit-learn]\n",
      "   -------------------------- ------------- 2/3 [scikit-learn]\n",
      "   -------------------------- ------------- 2/3 [scikit-learn]\n",
      "   -------------------------- ------------- 2/3 [scikit-learn]\n",
      "   -------------------------- ------------- 2/3 [scikit-learn]\n",
      "   -------------------------- ------------- 2/3 [scikit-learn]\n",
      "   -------------------------- ------------- 2/3 [scikit-learn]\n",
      "   -------------------------- ------------- 2/3 [scikit-learn]\n",
      "   -------------------------- ------------- 2/3 [scikit-learn]\n",
      "   -------------------------- ------------- 2/3 [scikit-learn]\n",
      "   -------------------------- ------------- 2/3 [scikit-learn]\n",
      "   -------------------------- ------------- 2/3 [scikit-learn]\n",
      "   -------------------------- ------------- 2/3 [scikit-learn]\n",
      "   -------------------------- ------------- 2/3 [scikit-learn]\n",
      "   -------------------------- ------------- 2/3 [scikit-learn]\n",
      "   -------------------------- ------------- 2/3 [scikit-learn]\n",
      "   -------------------------- ------------- 2/3 [scikit-learn]\n",
      "   -------------------------- ------------- 2/3 [scikit-learn]\n",
      "   -------------------------- ------------- 2/3 [scikit-learn]\n",
      "   -------------------------- ------------- 2/3 [scikit-learn]\n",
      "   ---------------------------------------- 3/3 [scikit-learn]\n",
      "\n",
      "Successfully installed scikit-learn-1.7.2 scipy-1.16.2 threadpoolctl-3.6.0\n",
      "Note: you may need to restart the kernel to use updated packages.\n"
     ]
    }
   ],
   "source": [
    "pip install scikit-learn"
   ]
  },
  {
   "cell_type": "code",
   "execution_count": 131,
   "id": "8815b7d5-650e-4b38-9259-3958a80be00f",
   "metadata": {},
   "outputs": [],
   "source": [
    "from sklearn.model_selection import train_test_split\n",
    "x_train,x_test,y_train,y_test = train_test_split(x,y,test_size = 0.2)"
   ]
  },
  {
   "cell_type": "markdown",
   "id": "4d63bd8c-c5a0-499d-89b8-c5a194a01e8a",
   "metadata": {},
   "source": [
    " "
   ]
  },
  {
   "cell_type": "markdown",
   "id": "a3d27b25-6f01-4580-be0f-5dae7a5d83f6",
   "metadata": {},
   "source": [
    "#Vectorization"
   ]
  },
  {
   "cell_type": "code",
   "execution_count": 136,
   "id": "3dd67ed1-232f-45c7-8abb-889c6a1bdfb5",
   "metadata": {},
   "outputs": [],
   "source": [
    "def vectorizer(ds,vocabulary) :\n",
    "    vectorized_list = []\n",
    "    for sentence in ds:\n",
    "        sentence_list = np.zeros(len(vocabulary))\n",
    "        for i in range(len(vocabulary)) :\n",
    "            if vocabulary [i] in sentence.split():\n",
    "                sentence_list[i] = 1\n",
    "        vectorized_list.append(sentence_list)\n",
    "    vectorized_list_new = np.asarray(vectorized_list,dtype = np.float32)\n",
    "    return vectorized_list_new"
   ]
  },
  {
   "cell_type": "code",
   "execution_count": 137,
   "id": "501b3b9d-b447-4f88-9969-2c3c876751b6",
   "metadata": {},
   "outputs": [],
   "source": [
    "vectorized_x_train = vectorizer(x_train,tokens)"
   ]
  },
  {
   "cell_type": "code",
   "execution_count": 138,
   "id": "bdc81cc0-62c7-4e29-9f58-580fed75be9c",
   "metadata": {},
   "outputs": [],
   "source": [
    "vectorized_x_test = vectorizer(x_test,tokens)"
   ]
  },
  {
   "cell_type": "code",
   "execution_count": 139,
   "id": "759ae937-5c3b-447e-a076-f14614984d9d",
   "metadata": {},
   "outputs": [
    {
     "data": {
      "text/plain": [
       "label\n",
       "0    4744\n",
       "1    1592\n",
       "Name: count, dtype: int64"
      ]
     },
     "execution_count": 139,
     "metadata": {},
     "output_type": "execute_result"
    }
   ],
   "source": [
    "y_train.value_counts()"
   ]
  },
  {
   "cell_type": "code",
   "execution_count": 140,
   "id": "9bc17537-7d15-494c-a1c4-5836083adb08",
   "metadata": {},
   "outputs": [
    {
     "data": {
      "image/png": "[encoded data removed]",
      "text/plain": [
       "<Figure size 640x480 with 1 Axes>"
      ]
     },
     "metadata": {},
     "output_type": "display_data"
    }
   ],
   "source": [
    "plt.pie(np.array([y_train.value_counts()[0],y_train.value_counts()[1]]),labels = [\"Positive\",\"Negative\"])\n",
    "plt.show()"
   ]
  },
  {
   "cell_type": "markdown",
   "id": "64903839-9686-4393-9404-8b52a84157bf",
   "metadata": {},
   "source": [
    " "
   ]
  },
  {
   "cell_type": "markdown",
   "id": "582f4d1e-10f9-4438-9931-6f21bb274514",
   "metadata": {},
   "source": [
    "#Handle Imbalanced Data Set"
   ]
  },
  {
   "cell_type": "code",
   "execution_count": 141,
   "id": "be7c6e6c-46bc-42d4-9d33-ee7dc8d6c8e7",
   "metadata": {},
   "outputs": [
    {
     "name": "stdout",
     "output_type": "stream",
     "text": [
      "Collecting imbalanced-learn\n",
      "  Downloading imbalanced_learn-0.14.0-py3-none-any.whl.metadata (8.8 kB)\n",
      "Requirement already satisfied: numpy<3,>=1.25.2 in c:\\users\\asus creator\\desktop\\sentiment-analysis-project\\env\\lib\\site-packages (from imbalanced-learn) (2.3.3)\n",
      "Requirement already satisfied: scipy<2,>=1.11.4 in c:\\users\\asus creator\\desktop\\sentiment-analysis-project\\env\\lib\\site-packages (from imbalanced-learn) (1.16.2)\n",
      "Requirement already satisfied: scikit-learn<2,>=1.4.2 in c:\\users\\asus creator\\desktop\\sentiment-analysis-project\\env\\lib\\site-packages (from imbalanced-learn) (1.7.2)\n",
      "Requirement already satisfied: joblib<2,>=1.2.0 in c:\\users\\asus creator\\desktop\\sentiment-analysis-project\\env\\lib\\site-packages (from imbalanced-learn) (1.5.2)\n",
      "Requirement already satisfied: threadpoolctl<4,>=2.0.0 in c:\\users\\asus creator\\desktop\\sentiment-analysis-project\\env\\lib\\site-packages (from imbalanced-learn) (3.6.0)\n",
      "Downloading imbalanced_learn-0.14.0-py3-none-any.whl (239 kB)\n",
      "Installing collected packages: imbalanced-learn\n",
      "Successfully installed imbalanced-learn-0.14.0\n",
      "Note: you may need to restart the kernel to use updated packages.\n"
     ]
    }
   ],
   "source": [
    "pip install imbalanced-learn"
   ]
  },
  {
   "cell_type": "code",
   "execution_count": 142,
   "id": "83a35e37-202f-4252-a153-10ed88325909",
   "metadata": {},
   "outputs": [
    {
     "name": "stdout",
     "output_type": "stream",
     "text": [
      "(9488, 1168) (9488,)\n"
     ]
    }
   ],
   "source": [
    "from imblearn.over_sampling import SMOTE\n",
    "smote = SMOTE()\n",
    "vectorized_x_train_smote,y_train_smote = smote.fit_resample(vectorized_x_train,y_train)\n",
    "print(vectorized_x_train_smote.shape,y_train_smote.shape)"
   ]
  },
  {
   "cell_type": "code",
   "execution_count": 143,
   "id": "64a4c0f2-0c2a-49ab-9e2d-20a61fc10a71",
   "metadata": {},
   "outputs": [
    {
     "data": {
      "text/plain": [
       "label\n",
       "0    4744\n",
       "1    4744\n",
       "Name: count, dtype: int64"
      ]
     },
     "execution_count": 143,
     "metadata": {},
     "output_type": "execute_result"
    }
   ],
   "source": [
    "y_train_smote.value_counts()"
   ]
  },
  {
   "cell_type": "code",
   "execution_count": 144,
   "id": "e1c5f485-f663-4685-a7b0-80d29e4ef4e3",
   "metadata": {},
   "outputs": [
    {
     "data": {
      "image/png": "[encoded data removed]",
      "text/plain": [
       "<Figure size 640x480 with 1 Axes>"
      ]
     },
     "metadata": {},
     "output_type": "display_data"
    }
   ],
   "source": [
    "plt.pie(np.array([y_train_smote.value_counts()[0],y_train_smote.value_counts()[1]]),labels = [\"Positive\",\"Negative\"])\n",
    "plt.show()"
   ]
  },
  {
   "cell_type": "markdown",
   "id": "3998695f-769b-44f6-9ec3-306a3d59286d",
   "metadata": {},
   "source": [
    " "
   ]
  },
  {
   "cell_type": "markdown",
   "id": "b5bb74d0-d783-4b99-bd13-c5817af7fb9f",
   "metadata": {},
   "source": [
    "#Model Training & Evaluation"
   ]
  },
  {
   "cell_type": "code",
   "execution_count": 146,
   "id": "079b95b5-0665-4911-81c3-a03b5048cb33",
   "metadata": {},
   "outputs": [],
   "source": [
    "from sklearn.linear_model import LogisticRegression\n",
    "from sklearn.naive_bayes import MultinomialNB\n",
    "from sklearn.tree import DecisionTreeClassifier\n",
    "from sklearn.ensemble import RandomForestClassifier\n",
    "from sklearn.svm import SVC"
   ]
  },
  {
   "cell_type": "code",
   "execution_count": 148,
   "id": "8218f35b-7e2a-4ad4-b0e9-29acccf8f5d4",
   "metadata": {},
   "outputs": [],
   "source": [
    "from sklearn.metrics import accuracy_score,f1_score,precision_score,recall_score\n",
    "def training_scores(y_act,y_pred) :\n",
    "    acc = round(accuracy_score(y_act,y_pred) , 3)\n",
    "    pr = round(precision_score(y_act,y_pred) , 3)\n",
    "    rec = round(recall_score(y_act,y_pred) , 3)\n",
    "    f1 = round(f1_score(y_act,y_pred) , 3)\n",
    "    print(f'Training Scores : \\n\\t Accuracy = {acc} \\n \\t Precision = {pr} \\n\\t Recall = {rec} \\n\\t F1_score = {f1}')\n",
    "\n",
    "def validation_scores(y_act , y_pred) :\n",
    "    acc = round(accuracy_score(y_act,y_pred) , 3)\n",
    "    pr = round(precision_score(y_act,y_pred) , 3)\n",
    "    rec = round(recall_score(y_act,y_pred) , 3)\n",
    "    f1 = round(f1_score(y_act,y_pred) , 3)\n",
    "    print(f'Training Scores : \\n\\t Accuracy = {acc} \\n \\t Precision = {pr} \\n\\t Recall = {rec} \\n\\t F1_score = {f1}')"
   ]
  },
  {
   "cell_type": "markdown",
   "id": "36d4c11a-fcb3-489f-bf16-c20054c94456",
   "metadata": {},
   "source": [
    " "
   ]
  },
  {
   "cell_type": "markdown",
   "id": "a72e1a6d-c25b-44cf-bfe2-a4746d5a99d0",
   "metadata": {},
   "source": [
    "#Logistic Regression\n"
   ]
  },
  {
   "cell_type": "code",
   "execution_count": 149,
   "id": "fcd2bbeb-1d72-450f-88ac-60f8d27f7638",
   "metadata": {},
   "outputs": [
    {
     "name": "stdout",
     "output_type": "stream",
     "text": [
      "Training Scores : \n",
      "\t Accuracy = 0.943 \n",
      " \t Precision = 0.919 \n",
      "\t Recall = 0.971 \n",
      "\t F1_score = 0.945\n",
      "Training Scores : \n",
      "\t Accuracy = 0.859 \n",
      " \t Precision = 0.713 \n",
      "\t Recall = 0.811 \n",
      "\t F1_score = 0.759\n"
     ]
    }
   ],
   "source": [
    "lr = LogisticRegression()\n",
    "lr.fit(vectorized_x_train_smote,y_train_smote)\n",
    "y_train_pred = lr.predict(vectorized_x_train_smote)\n",
    "training_scores(y_train_smote,y_train_pred)\n",
    "y_test_pred = lr.predict(vectorized_x_test)\n",
    "validation_scores(y_test,y_test_pred)"
   ]
  },
  {
   "cell_type": "markdown",
   "id": "141b865e-3ef4-446e-9dd0-2daa61306712",
   "metadata": {},
   "source": [
    " "
   ]
  },
  {
   "cell_type": "markdown",
   "id": "60f8f9a0-d1fa-4ff8-83b0-1af8dd79e804",
   "metadata": {},
   "source": [
    "#Naive Bays\n"
   ]
  },
  {
   "cell_type": "code",
   "execution_count": 150,
   "id": "bcf4483e-6175-4a56-b6f7-013010e74a3c",
   "metadata": {},
   "outputs": [
    {
     "name": "stdout",
     "output_type": "stream",
     "text": [
      "Training Scores : \n",
      "\t Accuracy = 0.911 \n",
      " \t Precision = 0.875 \n",
      "\t Recall = 0.959 \n",
      "\t F1_score = 0.915\n",
      "Training Scores : \n",
      "\t Accuracy = 0.859 \n",
      " \t Precision = 0.68 \n",
      "\t Recall = 0.912 \n",
      "\t F1_score = 0.78\n"
     ]
    }
   ],
   "source": [
    "mnb = MultinomialNB()\n",
    "mnb.fit(vectorized_x_train_smote,y_train_smote)\n",
    "y_train_pred = mnb.predict(vectorized_x_train_smote)\n",
    "training_scores(y_train_smote,y_train_pred)\n",
    "y_test_pred = mnb.predict(vectorized_x_test)\n",
    "validation_scores(y_test,y_test_pred)"
   ]
  },
  {
   "cell_type": "markdown",
   "id": "551d6fb6-931e-49ff-8b25-44e4883f17a3",
   "metadata": {},
   "source": [
    " "
   ]
  },
  {
   "cell_type": "markdown",
   "id": "32971678-d13e-4bcf-bab8-b59cfadba950",
   "metadata": {},
   "source": [
    "#Decision Tree"
   ]
  },
  {
   "cell_type": "code",
   "execution_count": 151,
   "id": "a9374a57-482b-404c-af0d-67f7506014ef",
   "metadata": {},
   "outputs": [
    {
     "name": "stdout",
     "output_type": "stream",
     "text": [
      "Training Scores : \n",
      "\t Accuracy = 1.0 \n",
      " \t Precision = 1.0 \n",
      "\t Recall = 0.999 \n",
      "\t F1_score = 1.0\n",
      "Training Scores : \n",
      "\t Accuracy = 0.823 \n",
      " \t Precision = 0.701 \n",
      "\t Recall = 0.62 \n",
      "\t F1_score = 0.658\n"
     ]
    }
   ],
   "source": [
    "dt = DecisionTreeClassifier()\n",
    "dt.fit(vectorized_x_train_smote,y_train_smote)\n",
    "y_train_pred = dt.predict(vectorized_x_train_smote)\n",
    "training_scores(y_train_smote,y_train_pred)\n",
    "y_test_pred = dt.predict(vectorized_x_test)\n",
    "validation_scores(y_test,y_test_pred)"
   ]
  },
  {
   "cell_type": "markdown",
   "id": "77154c54-5c2f-4596-beca-15f2226299aa",
   "metadata": {},
   "source": [
    " "
   ]
  },
  {
   "cell_type": "markdown",
   "id": "a6b957da-140f-4ac6-9a76-7ff3648a6fb7",
   "metadata": {},
   "source": [
    "#Random Forest\n"
   ]
  },
  {
   "cell_type": "code",
   "execution_count": 152,
   "id": "fd12e091-056b-4cd3-ba40-5cef2f899cdc",
   "metadata": {},
   "outputs": [
    {
     "name": "stdout",
     "output_type": "stream",
     "text": [
      "Training Scores : \n",
      "\t Accuracy = 1.0 \n",
      " \t Precision = 1.0 \n",
      "\t Recall = 1.0 \n",
      "\t F1_score = 1.0\n",
      "Training Scores : \n",
      "\t Accuracy = 0.868 \n",
      " \t Precision = 0.788 \n",
      "\t Recall = 0.71 \n",
      "\t F1_score = 0.747\n"
     ]
    }
   ],
   "source": [
    "rf = RandomForestClassifier()\n",
    "rf.fit(vectorized_x_train_smote,y_train_smote)\n",
    "y_train_pred = rf.predict(vectorized_x_train_smote)\n",
    "training_scores(y_train_smote,y_train_pred)\n",
    "y_test_pred = rf.predict(vectorized_x_test)\n",
    "validation_scores(y_test,y_test_pred)"
   ]
  },
  {
   "cell_type": "markdown",
   "id": "c24ff7e5-f819-40ee-8860-ea6feed36d6b",
   "metadata": {},
   "source": [
    " "
   ]
  },
  {
   "cell_type": "markdown",
   "id": "1cee6fe6-c913-4cb1-9ff1-45e762a36102",
   "metadata": {},
   "source": [
    "#Support Vector Machine"
   ]
  },
  {
   "cell_type": "code",
   "execution_count": 153,
   "id": "babf91a7-88dd-4e94-9b3e-afad34aaf105",
   "metadata": {},
   "outputs": [
    {
     "name": "stdout",
     "output_type": "stream",
     "text": [
      "Training Scores : \n",
      "\t Accuracy = 0.978 \n",
      " \t Precision = 0.962 \n",
      "\t Recall = 0.996 \n",
      "\t F1_score = 0.979\n",
      "Training Scores : \n",
      "\t Accuracy = 0.869 \n",
      " \t Precision = 0.745 \n",
      "\t Recall = 0.793 \n",
      "\t F1_score = 0.768\n"
     ]
    }
   ],
   "source": [
    "svm = SVC()\n",
    "svm.fit(vectorized_x_train_smote,y_train_smote)\n",
    "y_train_pred = svm.predict(vectorized_x_train_smote)\n",
    "training_scores(y_train_smote,y_train_pred)\n",
    "y_test_pred = svm.predict(vectorized_x_test)\n",
    "validation_scores(y_test,y_test_pred)"
   ]
  },
  {
   "cell_type": "code",
   "execution_count": 154,
   "id": "2bfb896a-9bfb-432a-b59c-e593fe6a40fe",
   "metadata": {},
   "outputs": [],
   "source": [
    "import pickle\n",
    "with open ('../Static/model/model.pickle','wb') as file:\n",
    "    pickle.dump(lr,file)\n"
   ]
  },
  {
   "cell_type": "code",
   "execution_count": null,
   "id": "452fed0e-43ed-44a4-9c7f-91709d2d8b52",
   "metadata": {},
   "outputs": [],
   "source": []
  }
 ],
 "metadata": {
  "kernelspec": {
   "display_name": "Python 3 (ipykernel)",
   "language": "python",
   "name": "python3"
  },
  "language_info": {
   "codemirror_mode": {
    "name": "ipython",
    "version": 3
   },
   "file_extension": ".py",
   "mimetype": "text/x-python",
   "name": "python",
   "nbconvert_exporter": "python",
   "pygments_lexer": "ipython3",
   "version": "3.12.4"
  }
 },
 "nbformat": 4,
 "nbformat_minor": 5
}
