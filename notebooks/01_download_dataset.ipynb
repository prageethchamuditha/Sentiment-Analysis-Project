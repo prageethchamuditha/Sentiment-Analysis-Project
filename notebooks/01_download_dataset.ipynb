{
 "cells": [
  {
   "cell_type": "code",
   "execution_count": null,
   "id": "9a1ef004",
   "metadata": {},
   "outputs": [],
   "source": [
    "import numpy as np "
   ]
  },
  {
   "cell_type": "code",
   "execution_count": 1,
   "id": "ec1ed8a9-4cfb-456e-86d1-3e13afb49378",
   "metadata": {},
   "outputs": [],
   "source": [
    "import json"
   ]
  },
  {
   "cell_type": "code",
   "execution_count": 2,
   "id": "8b26dfa9-05cf-4966-8b9e-eafda4445e9e",
   "metadata": {},
   "outputs": [],
   "source": [
    "with open (\"../artifacts/kaggle.json\" , \"r\") as file:\n",
    "    data = json.load"
   ]
  },
  {
   "cell_type": "code",
   "execution_count": 3,
   "id": "f8a4995d-5011-48f6-8c2e-e3767bc70293",
   "metadata": {},
   "outputs": [
    {
     "data": {
      "text/plain": [
       "<function json.load(fp, *, cls=None, object_hook=None, parse_float=None, parse_int=None, parse_constant=None, object_pairs_hook=None, **kw)>"
      ]
     },
     "execution_count": 3,
     "metadata": {},
     "output_type": "execute_result"
    }
   ],
   "source": [
    "data"
   ]
  },
  {
   "cell_type": "code",
   "execution_count": 4,
   "id": "a29b45b8-8d2c-45c3-b1fc-c0fff9ddeda8",
   "metadata": {},
   "outputs": [],
   "source": [
    "import json\n",
    "with open (\"../artifacts/kaggle.json\" , \"r\") as file:\n",
    "    data = json.load"
   ]
  },
  {
   "cell_type": "code",
   "execution_count": 5,
   "id": "23f783f6-acaf-4827-a277-424ff4ee3195",
   "metadata": {},
   "outputs": [
    {
     "data": {
      "text/plain": [
       "<function json.load(fp, *, cls=None, object_hook=None, parse_float=None, parse_int=None, parse_constant=None, object_pairs_hook=None, **kw)>"
      ]
     },
     "execution_count": 5,
     "metadata": {},
     "output_type": "execute_result"
    }
   ],
   "source": [
    "data"
   ]
  },
  {
   "cell_type": "code",
   "execution_count": null,
   "id": "2f772bba-5130-493a-8ca7-0e8a79e43bac",
   "metadata": {},
   "outputs": [],
   "source": []
  },
  {
   "cell_type": "code",
   "execution_count": 6,
   "id": "490bfcc5-dcce-42ac-b050-33814253afed",
   "metadata": {},
   "outputs": [],
   "source": [
    "import json\n",
    "with open (\"../artifacts/kaggle.json\" , \"r\") as file:\n",
    "    data = json.load(file)"
   ]
  },
  {
   "cell_type": "code",
   "execution_count": 7,
   "id": "b1c40736-139f-45f1-a7d3-7241d601eeae",
   "metadata": {},
   "outputs": [
    {
     "data": {
      "text/plain": [
       "{'username': 'prageethchamuditha', 'key': 'c27b3266f7262daedcd0afc680468920'}"
      ]
     },
     "execution_count": 7,
     "metadata": {},
     "output_type": "execute_result"
    }
   ],
   "source": [
    "data"
   ]
  },
  {
   "cell_type": "code",
   "execution_count": 1,
   "id": "8bfd1c22-ea4e-48bc-ae52-42f401748d81",
   "metadata": {},
   "outputs": [
    {
     "name": "stdout",
     "output_type": "stream",
     "text": [
      "Requirement already satisfied: kaggle in c:\\users\\asus creator\\desktop\\sentiment-analysis-project\\env\\lib\\site-packages (1.7.4.5)\n",
      "Requirement already satisfied: bleach in c:\\users\\asus creator\\desktop\\sentiment-analysis-project\\env\\lib\\site-packages (from kaggle) (6.2.0)\n",
      "Requirement already satisfied: certifi>=14.05.14 in c:\\users\\asus creator\\desktop\\sentiment-analysis-project\\env\\lib\\site-packages (from kaggle) (2025.8.3)\n",
      "Requirement already satisfied: charset-normalizer in c:\\users\\asus creator\\desktop\\sentiment-analysis-project\\env\\lib\\site-packages (from kaggle) (3.4.3)\n",
      "Requirement already satisfied: idna in c:\\users\\asus creator\\desktop\\sentiment-analysis-project\\env\\lib\\site-packages (from kaggle) (3.10)\n",
      "Requirement already satisfied: protobuf in c:\\users\\asus creator\\desktop\\sentiment-analysis-project\\env\\lib\\site-packages (from kaggle) (6.32.1)\n",
      "Requirement already satisfied: python-dateutil>=2.5.3 in c:\\users\\asus creator\\desktop\\sentiment-analysis-project\\env\\lib\\site-packages (from kaggle) (2.9.0.post0)\n",
      "Requirement already satisfied: python-slugify in c:\\users\\asus creator\\desktop\\sentiment-analysis-project\\env\\lib\\site-packages (from kaggle) (8.0.4)\n",
      "Requirement already satisfied: requests in c:\\users\\asus creator\\desktop\\sentiment-analysis-project\\env\\lib\\site-packages (from kaggle) (2.32.5)\n",
      "Requirement already satisfied: setuptools>=21.0.0 in c:\\users\\asus creator\\desktop\\sentiment-analysis-project\\env\\lib\\site-packages (from kaggle) (80.9.0)\n",
      "Requirement already satisfied: six>=1.10 in c:\\users\\asus creator\\desktop\\sentiment-analysis-project\\env\\lib\\site-packages (from kaggle) (1.17.0)\n",
      "Requirement already satisfied: text-unidecode in c:\\users\\asus creator\\desktop\\sentiment-analysis-project\\env\\lib\\site-packages (from kaggle) (1.3)\n",
      "Requirement already satisfied: tqdm in c:\\users\\asus creator\\desktop\\sentiment-analysis-project\\env\\lib\\site-packages (from kaggle) (4.67.1)\n",
      "Requirement already satisfied: urllib3>=1.15.1 in c:\\users\\asus creator\\desktop\\sentiment-analysis-project\\env\\lib\\site-packages (from kaggle) (2.5.0)\n",
      "Requirement already satisfied: webencodings in c:\\users\\asus creator\\desktop\\sentiment-analysis-project\\env\\lib\\site-packages (from kaggle) (0.5.1)\n",
      "Requirement already satisfied: colorama in c:\\users\\asus creator\\desktop\\sentiment-analysis-project\\env\\lib\\site-packages (from tqdm->kaggle) (0.4.6)\n",
      "Note: you may need to restart the kernel to use updated packages.\n"
     ]
    }
   ],
   "source": [
    "pip install kaggle"
   ]
  },
  {
   "cell_type": "code",
   "execution_count": 9,
   "id": "a8058f42-c46c-4ffc-819b-8f30e1d450e7",
   "metadata": {},
   "outputs": [],
   "source": [
    "import os\n",
    "os.environ[\"KAGGLE_USERNAME\"] = data['username']\n",
    "os.environ[\"KAGGLE_KEY\"] = data['key']"
   ]
  },
  {
   "cell_type": "code",
   "execution_count": 11,
   "id": "fe4f6eed-56d4-4aa8-9e39-c6207aa95623",
   "metadata": {},
   "outputs": [],
   "source": [
    "from kaggle.api.kaggle_api_extended import KaggleApi\n",
    "api = KaggleApi()\n",
    "api.authenticate()"
   ]
  },
  {
   "cell_type": "code",
   "execution_count": 12,
   "id": "3a36e24d-e19b-4dbe-914e-f0239c98a383",
   "metadata": {},
   "outputs": [
    {
     "name": "stdout",
     "output_type": "stream",
     "text": [
      "Dataset URL: https://www.kaggle.com/datasets/dineshpiyasamara/sentiment-analysis-dataset\n"
     ]
    }
   ],
   "source": [
    "api.dataset_download_files(\"dineshpiyasamara/sentiment-analysis-dataset\" , path = \"../artifacts/\")"
   ]
  },
  {
   "cell_type": "code",
   "execution_count": 1,
   "id": "8bbb135c-4b27-4d54-8380-b58f05031d33",
   "metadata": {},
   "outputs": [],
   "source": [
    "import zipfile\n",
    "with zipfile.ZipFile(\"../artifacts/sentiment-analysis-dataset.zip\" , \"r\") as zip_ref:\n",
    "    zip_ref.extractall(\"../artifacts/\")"
   ]
  },
  {
   "cell_type": "code",
   "execution_count": null,
   "id": "6d30c767-681f-40c0-8513-8921f7f93cf4",
   "metadata": {},
   "outputs": [],
   "source": []
  }
 ],
 "metadata": {
  "kernelspec": {
   "display_name": "env",
   "language": "python",
   "name": "python3"
  },
  "language_info": {
   "codemirror_mode": {
    "name": "ipython",
    "version": 3
   },
   "file_extension": ".py",
   "mimetype": "text/x-python",
   "name": "python",
   "nbconvert_exporter": "python",
   "pygments_lexer": "ipython3",
   "version": "3.12.4"
  }
 },
 "nbformat": 4,
 "nbformat_minor": 5
}
